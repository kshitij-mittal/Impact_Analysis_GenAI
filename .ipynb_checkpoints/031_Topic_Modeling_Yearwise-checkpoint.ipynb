{
 "cells": [
  {
   "cell_type": "markdown",
   "id": "215fa310-6748-4bfa-9866-985ba74c3f9a",
   "metadata": {},
   "source": [
    "## Topic Modeling as per years"
   ]
  },
  {
   "cell_type": "code",
   "execution_count": 2,
   "id": "e1e64b45-8403-4288-8884-be66637e19ff",
   "metadata": {},
   "outputs": [],
   "source": [
    "import pandas as pd\n",
    "import re"
   ]
  },
  {
   "cell_type": "code",
   "execution_count": 3,
   "id": "5522ef14-1311-4a45-af75-1771041bb711",
   "metadata": {},
   "outputs": [],
   "source": [
    "import time\n",
    "import math\n",
    "import re\n",
    "# import textblob\n",
    "# from textblob import TextBlob\n",
    "import pandas as pd\n",
    "import numpy as np\n",
    "\n",
    "import nltk as nltk\n",
    "from nltk.corpus import stopwords\n",
    "from nltk.stem.wordnet import WordNetLemmatizer\n",
    "\n",
    "import string\n",
    "import gensim\n",
    "from gensim import corpora, models\n",
    "from gensim.models.ldamulticore import LdaMulticore\n",
    "from gensim.models import CoherenceModel\n",
    "\n",
    "# import pyLDAvis.gensim\n",
    "import pyLDAvis\n",
    "import pyLDAvis.gensim_models as gensimvis\n",
    "from gensim.utils import simple_preprocess\n",
    "pyLDAvis.enable_notebook()"
   ]
  },
  {
   "cell_type": "code",
   "execution_count": 4,
   "id": "9606b3ca-321e-4569-9723-547ccdf74c4b",
   "metadata": {},
   "outputs": [
    {
     "name": "stdout",
     "output_type": "stream",
     "text": [
      "Bucket nlp_final_project_kshitijm connected.\n"
     ]
    }
   ],
   "source": [
    "# Imports the Google Cloud client library\n",
    "from google.cloud import storage\n",
    "# Instantiates a client\n",
    "storage_client = storage.Client()\n",
    "\n",
    "# The name for the new bucket\n",
    "bucket_name = \"nlp_final_project_kshitijm\"\n",
    "\n",
    "# Creates the new bucket\n",
    "bucket = storage_client.bucket(bucket_name)\n",
    "print(f\"Bucket {bucket.name} connected.\")"
   ]
  },
  {
   "cell_type": "code",
   "execution_count": 5,
   "id": "213f0221-7c27-42be-b6e2-ceeecaa1ec8a",
   "metadata": {},
   "outputs": [
    {
     "name": "stdout",
     "output_type": "stream",
     "text": [
      "Available CPUs: 16\n",
      "INFO: Pandarallel will run on 15 workers.\n",
      "INFO: Pandarallel will use standard multiprocessing data transfer (pipe) to transfer data between the main process and workers.\n"
     ]
    }
   ],
   "source": [
    "# %pip install pandarallel\n",
    "import multiprocessing\n",
    "\n",
    "num_processors = multiprocessing.cpu_count()\n",
    "print(f'Available CPUs: {num_processors}')\n",
    "\n",
    "import pandarallel\n",
    "from pandarallel import pandarallel\n",
    "pandarallel.initialize(nb_workers=num_processors-1, use_memory_fs=False)\n",
    "\n",
    "num_processors = multiprocessing.cpu_count()\n",
    "workers = num_processors-1"
   ]
  },
  {
   "cell_type": "code",
   "execution_count": 6,
   "id": "e0ef8b7d-d892-459a-a4dc-a8d673fa571d",
   "metadata": {},
   "outputs": [],
   "source": [
    "import matplotlib.pyplot as plt\n",
    "%matplotlib inline\n",
    "import seaborn as sns\n",
    "# Graphics in SVG format are more sharp and legible\n",
    "# %config InlineBackend.figure_format = 'svg'\n",
    "\n",
    "import warnings\n",
    "warnings.filterwarnings(\"ignore\")"
   ]
  },
  {
   "cell_type": "markdown",
   "id": "01b64c04-2cbe-49db-95e8-9f5bfe812330",
   "metadata": {},
   "source": [
    "----"
   ]
  },
  {
   "cell_type": "code",
   "execution_count": 7,
   "id": "a0993c65-34b1-44db-849c-83b246df02f5",
   "metadata": {},
   "outputs": [
    {
     "name": "stdout",
     "output_type": "stream",
     "text": [
      "CPU times: user 52.7 s, sys: 16.9 s, total: 1min 9s\n",
      "Wall time: 1min 3s\n"
     ]
    }
   ],
   "source": [
    "%%time\n",
    "df_filt=pd.read_parquet('gs://nlp_final_project_kshitijm/00_Data/NLP_FP_Data4_filtered.parquet')"
   ]
  },
  {
   "cell_type": "code",
   "execution_count": 13,
   "id": "879f6f6f-168c-4e99-bbd5-213348d6e389",
   "metadata": {},
   "outputs": [
    {
     "data": {
      "text/html": [
       "<div>\n",
       "<style scoped>\n",
       "    .dataframe tbody tr th:only-of-type {\n",
       "        vertical-align: middle;\n",
       "    }\n",
       "\n",
       "    .dataframe tbody tr th {\n",
       "        vertical-align: top;\n",
       "    }\n",
       "\n",
       "    .dataframe thead th {\n",
       "        text-align: right;\n",
       "    }\n",
       "</style>\n",
       "<table border=\"1\" class=\"dataframe\">\n",
       "  <thead>\n",
       "    <tr style=\"text-align: right;\">\n",
       "      <th></th>\n",
       "      <th>url</th>\n",
       "      <th>date</th>\n",
       "      <th>language</th>\n",
       "      <th>title</th>\n",
       "      <th>text</th>\n",
       "      <th>cleaned_text</th>\n",
       "      <th>article_source</th>\n",
       "      <th>clean_title</th>\n",
       "      <th>title_tokens</th>\n",
       "      <th>cleaned_text_tokens</th>\n",
       "      <th>year_pub</th>\n",
       "      <th>month</th>\n",
       "      <th>month-year</th>\n",
       "      <th>flag_relevant</th>\n",
       "      <th>num_tokens</th>\n",
       "      <th>rake_phrases_articles</th>\n",
       "      <th>rake_phrases_joined</th>\n",
       "    </tr>\n",
       "  </thead>\n",
       "  <tbody>\n",
       "    <tr>\n",
       "      <th>99</th>\n",
       "      <td>https://fusionscienceacademy.com/artificial-in...</td>\n",
       "      <td>2020-01-30</td>\n",
       "      <td>en</td>\n",
       "      <td>Artificial Intelligence (AI) in Social Media  ...</td>\n",
       "      <td>\\n\\nArtificial Intelligence (AI) in Social Med...</td>\n",
       "      <td>Artificial Intelligence AI in Social MediaMar...</td>\n",
       "      <td>2026 – Fusion Science Academy</td>\n",
       "      <td>Artificial Intelligence (AI) in Social Media  ...</td>\n",
       "      <td>['artificial', 'intelligence', 'ai', 'social',...</td>\n",
       "      <td>['artificial', 'intelligence', 'ai', 'social',...</td>\n",
       "      <td>2020</td>\n",
       "      <td>1</td>\n",
       "      <td>Jan 2020</td>\n",
       "      <td>1</td>\n",
       "      <td>22283</td>\n",
       "      <td>[burkert fluid control systems emerson electri...</td>\n",
       "      <td>burkert fluid control systems emerson electric...</td>\n",
       "    </tr>\n",
       "    <tr>\n",
       "      <th>115</th>\n",
       "      <td>https://health.economictimes.indiatimes.com/ne...</td>\n",
       "      <td>2020-01-10</td>\n",
       "      <td>en</td>\n",
       "      <td>artificial intelligence: Researchers develop A...</td>\n",
       "      <td>\\n\\nartificial intelligence: Researchers devel...</td>\n",
       "      <td>artificial intelligence: Researchers develop ...</td>\n",
       "      <td>None</td>\n",
       "      <td>artificial intelligence: Researchers develop A...</td>\n",
       "      <td>['artificial', 'intelligence', 'researchers', ...</td>\n",
       "      <td>['artificial', 'intelligence', 'researchers', ...</td>\n",
       "      <td>2020</td>\n",
       "      <td>1</td>\n",
       "      <td>Jan 2020</td>\n",
       "      <td>1</td>\n",
       "      <td>8087</td>\n",
       "      <td>[economic times ethealthworldhome news hospita...</td>\n",
       "      <td>economic times ethealthworldhome news hospital...</td>\n",
       "    </tr>\n",
       "    <tr>\n",
       "      <th>117</th>\n",
       "      <td>https://heraldpublicist.com/bet-gil-on-ai-fina...</td>\n",
       "      <td>2020-01-15</td>\n",
       "      <td>en</td>\n",
       "      <td>Bet Gil on AI Final Fantasy Tactics Matches in...</td>\n",
       "      <td>\\n\\nBet Gil on AI Final Fantasy Tactics Matche...</td>\n",
       "      <td>Bet Gil on AI Final Fantasy Tactics Matches i...</td>\n",
       "      <td>Herald Publicist</td>\n",
       "      <td>Bet Gil on AI Final Fantasy Tactics Matches in...</td>\n",
       "      <td>['bet', 'gil', 'ai', 'final', 'fantasy', 'tact...</td>\n",
       "      <td>['bet', 'gil', 'ai', 'final', 'fantasy', 'tact...</td>\n",
       "      <td>2020</td>\n",
       "      <td>1</td>\n",
       "      <td>Jan 2020</td>\n",
       "      <td>1</td>\n",
       "      <td>4458</td>\n",
       "      <td>[hilarious twitch streamnewstechnologycricketp...</td>\n",
       "      <td>hilarious twitch streamnewstechnologycricketpo...</td>\n",
       "    </tr>\n",
       "    <tr>\n",
       "      <th>119</th>\n",
       "      <td>https://honestversion.com/2020/01/24/growth-of...</td>\n",
       "      <td>2020-01-24</td>\n",
       "      <td>en</td>\n",
       "      <td>Growth of Cloud Telecommunication AI market in...</td>\n",
       "      <td>\\n\\nGrowth of Cloud Telecommunication AI marke...</td>\n",
       "      <td>Growth of Cloud Telecommunication AI market i...</td>\n",
       "      <td>Honest Version</td>\n",
       "      <td>Growth of Cloud Telecommunication AI market in...</td>\n",
       "      <td>['growth', 'cloud', 'ai', 'market', 'global', ...</td>\n",
       "      <td>['growth', 'cloud', 'ai', 'market', 'global', ...</td>\n",
       "      <td>2020</td>\n",
       "      <td>1</td>\n",
       "      <td>Jan 2020</td>\n",
       "      <td>1</td>\n",
       "      <td>6048</td>\n",
       "      <td>[cloud telecommunication ai market strategic a...</td>\n",
       "      <td>cloud telecommunication ai market strategic as...</td>\n",
       "    </tr>\n",
       "    <tr>\n",
       "      <th>157</th>\n",
       "      <td>https://marketresearchsheets.com/2020/01/31/gl...</td>\n",
       "      <td>2020-01-31</td>\n",
       "      <td>en</td>\n",
       "      <td>Global Artificial Intelligence as a Service Ma...</td>\n",
       "      <td>\\n\\nGlobal Artificial Intelligence as a Servic...</td>\n",
       "      <td>Global Artificial Intelligence as a Service M...</td>\n",
       "      <td>Market Research Sheets</td>\n",
       "      <td>Global Artificial Intelligence as a Service Ma...</td>\n",
       "      <td>['global', 'artificial', 'intelligence', 'serv...</td>\n",
       "      <td>['global', 'artificial', 'intelligence', 'serv...</td>\n",
       "      <td>2020</td>\n",
       "      <td>1</td>\n",
       "      <td>Jan 2020</td>\n",
       "      <td>1</td>\n",
       "      <td>10098</td>\n",
       "      <td>[service market trendsyou may also like news g...</td>\n",
       "      <td>service market trendsyou may also like news gl...</td>\n",
       "    </tr>\n",
       "  </tbody>\n",
       "</table>\n",
       "</div>"
      ],
      "text/plain": [
       "                                                   url       date language  \\\n",
       "99   https://fusionscienceacademy.com/artificial-in... 2020-01-30       en   \n",
       "115  https://health.economictimes.indiatimes.com/ne... 2020-01-10       en   \n",
       "117  https://heraldpublicist.com/bet-gil-on-ai-fina... 2020-01-15       en   \n",
       "119  https://honestversion.com/2020/01/24/growth-of... 2020-01-24       en   \n",
       "157  https://marketresearchsheets.com/2020/01/31/gl... 2020-01-31       en   \n",
       "\n",
       "                                                 title  \\\n",
       "99   Artificial Intelligence (AI) in Social Media  ...   \n",
       "115  artificial intelligence: Researchers develop A...   \n",
       "117  Bet Gil on AI Final Fantasy Tactics Matches in...   \n",
       "119  Growth of Cloud Telecommunication AI market in...   \n",
       "157  Global Artificial Intelligence as a Service Ma...   \n",
       "\n",
       "                                                  text  \\\n",
       "99   \\n\\nArtificial Intelligence (AI) in Social Med...   \n",
       "115  \\n\\nartificial intelligence: Researchers devel...   \n",
       "117  \\n\\nBet Gil on AI Final Fantasy Tactics Matche...   \n",
       "119  \\n\\nGrowth of Cloud Telecommunication AI marke...   \n",
       "157  \\n\\nGlobal Artificial Intelligence as a Servic...   \n",
       "\n",
       "                                          cleaned_text  \\\n",
       "99    Artificial Intelligence AI in Social MediaMar...   \n",
       "115   artificial intelligence: Researchers develop ...   \n",
       "117   Bet Gil on AI Final Fantasy Tactics Matches i...   \n",
       "119   Growth of Cloud Telecommunication AI market i...   \n",
       "157   Global Artificial Intelligence as a Service M...   \n",
       "\n",
       "                    article_source  \\\n",
       "99   2026 – Fusion Science Academy   \n",
       "115                           None   \n",
       "117               Herald Publicist   \n",
       "119                 Honest Version   \n",
       "157         Market Research Sheets   \n",
       "\n",
       "                                           clean_title  \\\n",
       "99   Artificial Intelligence (AI) in Social Media  ...   \n",
       "115  artificial intelligence: Researchers develop A...   \n",
       "117  Bet Gil on AI Final Fantasy Tactics Matches in...   \n",
       "119  Growth of Cloud Telecommunication AI market in...   \n",
       "157  Global Artificial Intelligence as a Service Ma...   \n",
       "\n",
       "                                          title_tokens  \\\n",
       "99   ['artificial', 'intelligence', 'ai', 'social',...   \n",
       "115  ['artificial', 'intelligence', 'researchers', ...   \n",
       "117  ['bet', 'gil', 'ai', 'final', 'fantasy', 'tact...   \n",
       "119  ['growth', 'cloud', 'ai', 'market', 'global', ...   \n",
       "157  ['global', 'artificial', 'intelligence', 'serv...   \n",
       "\n",
       "                                   cleaned_text_tokens  year_pub  month  \\\n",
       "99   ['artificial', 'intelligence', 'ai', 'social',...      2020      1   \n",
       "115  ['artificial', 'intelligence', 'researchers', ...      2020      1   \n",
       "117  ['bet', 'gil', 'ai', 'final', 'fantasy', 'tact...      2020      1   \n",
       "119  ['growth', 'cloud', 'ai', 'market', 'global', ...      2020      1   \n",
       "157  ['global', 'artificial', 'intelligence', 'serv...      2020      1   \n",
       "\n",
       "    month-year  flag_relevant  num_tokens  \\\n",
       "99    Jan 2020              1       22283   \n",
       "115   Jan 2020              1        8087   \n",
       "117   Jan 2020              1        4458   \n",
       "119   Jan 2020              1        6048   \n",
       "157   Jan 2020              1       10098   \n",
       "\n",
       "                                 rake_phrases_articles  \\\n",
       "99   [burkert fluid control systems emerson electri...   \n",
       "115  [economic times ethealthworldhome news hospita...   \n",
       "117  [hilarious twitch streamnewstechnologycricketp...   \n",
       "119  [cloud telecommunication ai market strategic a...   \n",
       "157  [service market trendsyou may also like news g...   \n",
       "\n",
       "                                   rake_phrases_joined  \n",
       "99   burkert fluid control systems emerson electric...  \n",
       "115  economic times ethealthworldhome news hospital...  \n",
       "117  hilarious twitch streamnewstechnologycricketpo...  \n",
       "119  cloud telecommunication ai market strategic as...  \n",
       "157  service market trendsyou may also like news gl...  "
      ]
     },
     "execution_count": 13,
     "metadata": {},
     "output_type": "execute_result"
    }
   ],
   "source": [
    "df_filt.head()"
   ]
  },
  {
   "cell_type": "code",
   "execution_count": 15,
   "id": "436b78e3-41fd-4695-a0ab-186cb3f82100",
   "metadata": {},
   "outputs": [],
   "source": [
    "## Removing very long words to eliminate noise before topic modeling\n",
    "\n",
    "def remove_long_words(text):\n",
    "    pattern = r'\\b\\w{16,}\\b'  # Matches words with more than 15 characters\n",
    "    cleaned_text = re.sub(pattern, '', text)\n",
    "    return cleaned_text\n",
    "df_filt['cleaned_text']=df_filt['cleaned_text'].apply(lambda x: remove_long_words(str(x)))"
   ]
  },
  {
   "cell_type": "code",
   "execution_count": 17,
   "id": "e608fc40-033b-4229-8ee9-2aa9cd03683f",
   "metadata": {
    "collapsed": true,
    "jupyter": {
     "outputs_hidden": true
    },
    "tags": []
   },
   "outputs": [
    {
     "data": {
      "text/plain": [
       "99         Artificial Intelligence AI in Social MediaMarket to Witness Slow Growth Owing to Unfavorable Government Policies 20182026Fusion Science AcademyOur WritersUs Terms and ConditionsJoin Our  with usFusion Science Academy Artificial Intelligence AI in Social MediaMarket to Witness Slow Growth Owing to Unfavorable Government Policies 20182026 Market Forecast Market Size Industry Growth Industry Trends Market Report Market Share Key Players Global Market Market Sales Industry Analysis Market OutlookUsRKET REPT Artificial Intelligence AI in Social MediaMarket to Witness Slow Growth Owing to Unfavorable Government Policies 20182026 Published 48 seconds ago on January 30, 2020 By  report on global Artificial Intelligence AI in Social Media market by TMR Analysts at TMR find that the global Artificial Intelligence AI in Social Media market has been evolving at a GR of xx during the historic period 20142018. The market study suggests that the global market size of Artificial Intelligence AI i...\n",
       "115        artificial intelligence: Researchers develop AI system to detect and grade prostate cancer, Health News, ET HealthWorldSign inSign upWS SITESRetail News Auto News Telecom News Energy News IT News Real Estate News Brand  News CFO News IT Security News BFSI News Government NewsJavascript on your browser is disabled. Please enable it for better performance of ETHealthworld.An initiative of The Economic Times  News     Blogs Feature Features Trends Startups Medical Specialties Oncology Cardiology Neurology Oral Care Diabetology DataAnalytics Social Analytics Data Reports HealthTV Brand Solutions Hospital Awards Scaling Excellence in Healthcare ETHealthworld HealthTech Summit ETHealthworld Fertility Conclave The Future Readiness of IVF Schneider Electric Reinventing Healthcare ETHealthworld National Fertility Awards Recognising Excellence in n Fertility Industry Anti  Protection Forum 2018 Future Of Patient Care ETHealthworld In Association with Home Healthcare GE Healthier  Achieving ...\n",
       "117        Bet Gil on AI Final Fantasy Tactics Matches in Hilarious Twitch StreamHerald Publicist NTA   WSEDUTIOeghans wedding week war with her father: Court papers reveal message that destroyed relationshipThe royals will dread the courtroom showdown it threatens to be as bombshell says CHD KAY lawmakers introduce death penalty repealSEBASTN SHESPEE: Chloe Delevingne reveals she almost died TCESEBASTN SHESPEE: Lord Attenboroughs son is in a titfortat feudBet Gil on AI Final Fantasy Tactics Matches in Hilarious Twitch  WSEDUTIONNews Technology Cricket POLITIL WS EDUTION pete Add Comment Share   Bet Gil on AI Final Fantasy Tactics Matches in Hilarious Twitch Stream January 15, 20202 Min ReadTheres one thing relatively hilarious about watch AI duke it out. Typically it is mindless in the perfect of how, and the ways used can finest be described as wild. Such is the case with a brand new stream, which sees two AI events of 4 duke it out in a spherical of HEPUBLICIST basic Closing Fantasy Techn...\n",
       "119        Growth of Cloud  AI market in global industry: overview, size and share 20192024Honest Version Skip to content Menu HOHonest Version Growth of Cloud  AI market in global industry: overview, size and share  24, 2020Business  reports add Global Cloud  AI Market Growth Status and Outlook 20192024 new report to its research database. The report spread across 117 s with multiple tables and figures in it.  Artificial Intelligence AI is intelligence demonstrated by machines for .This report studies the Cloud  AI Market with many aspects of the industry like the market size, market status, market trends and forecast, the report also provides brief information of the competitors and the specific growth opportunities with key market drivers. Find the complete Cloud  AI market analysis segmented by companies, region, type and applications in the report. Scope of Cloud  AI:Cloud  AI Market report evaluates the growth rate and the market value based on market dynamics, growth inducing factors....\n",
       "157        Global Artificial Intelligence as a Service Market 2019 Competitive Analysis by Introduction, Ibm, Google, Amazon Web Services, MicrosoftMarket Research Sheets AboutTeam Feedback Terms of UseMarket Research  Automobile brake caliper Market 2019 Competitive Analysis by ZF, Mainland, Akebono, brembo, Love letter, Bosch, Mando, ACDelcoGlobal Automobile Battery Market 2019 Competitive Analysis by Johnson Controls, Exide, EnerSys, Furukawa, CD  Automobile Air Conditioner Filter Market 2019 Competitive Analysis by MannHummel, Jinwei, Bosch, Bridle, World,  Automobile Accumulator Market 2019 Competitive Analysis by RTA, Delphi, EXE, AC Delco, Bosch, GSYUASA, ROCKET, Sail, camelGlobal Legalized Cannabis Market reasing Demand and Future Potential of Industry till 2027Global Automation Testing Market 2019 Competitive Analysis by Ibm, Ca Technologies, Micro Focus, Capgemini, Microsoft, TricentisMarket Research  Research SheetsNews Satellite NASA Rockets  Global Artificial Intelligence as a S...\n",
       "                                                                                                                                                                                                                                                                                                                                                                                                                                                                                                                           ...                                                                                                                                                                                                                                                                                                                                                                                                                                                                                                                   \n",
       "200281    Tonkean Releases AI Front Door, Bringing GPT To Your Companys Everyday Processes Skip to     2023 St. Jude Dream   QuestionGreat Health DivideWT Investigates   ScoresHigh School Game TimeMinguas Athlete of the  Corner Off the Bench UsSubmit a News TipMeet the TeamAdvertising InformationJobs at Wews AlertsSubmit Photos and Videos2023 St. Jude Dream HomeGray    LivingAging with GraceAloha MondaysBG HG TV  of   Hooked on  StoriesTV    ReleasesTonkean Releases AI Front Door, Bringing GPT To Your Companys Everyday : Apr. 18, 2023 at 9:05 AM EDTUpdated: 59 minutes agoLO TO, Calif., April 18, 2023 , the firstofitskind process experience platform, today announced the release of the Tonkean AI Front Door. The feature empowers internal service teams like procurement and legal to incorporate OpenAIs GPT4 seamlessly into everyday processes. It does so by providing an AIpowered intake experience for submittingand proactively  requests. Its capable, among other things, of the following: Like any...\n",
       "200306    Schumer unveils groundwork for AI regulationSkip to content 82Sign Up  82 Sponsored ByToggle Menu Open Navigation Close  enter a search term. Primary Menu News 75th Anniversary  Health National Latest News Videos Live Traffic Map Educating  New  News Your Local Election HQ Politics from The Hill Politics Press Releases BestReviews Top Stories HealthCare named among Americas most innovativeVideo Top StoriesYale doctor discusses gun violence as a public health17 mins agoVideoLast pieces of controversial fence removed from Old25 mins agoVideoState leaders remind residents of tax assistance30 mins agoVideoMoose spotted: EP urges caution among drivers in37 mins agoWeather  8 Day Forecast  Weather Radar Todays Forecast ClosingsDelays Enter Your Closings and Delays Weather Alerts Current Conditions Watch Now TU : News 8 Newscasts How to Stream News 8 Report It Send Your PhotosVideos Suggest a Story to News 8 OnAir Television Schedule Meet the Team In Your Neighborhood 8 Things To Do  Fami...\n",
       "200315    How To Prepare For The AI Innovation Revolution In Marketing Skip to  Alert WeatherFirst Alert Live WX CamerasWatch LiveAs Seen On LTSubmit   LT NewsFirst Alert WeatherFirst Alert Weather MapsFirst Alert ClosingsFirst Alert RadarWeather ClassFirst Alert Live WX  on OneVols SportsHigh  a  PhotosVideoAs Seen on LTAs Seen On LTAlan Williams Going My WayAnything Is PossibleLets Get CookingEye on EducationGreat Health DivideSupport Local   SolutionsMedal of  Calendar UsMeet the TeamCareersLT Paid Internship  CaptioningAudio      NewscastsPress ReleasesWind Advisory is in effectDismiss Weather Alerts Alerts BarHow To Prepare For The AI Innovation Revolution In : Apr. 27, 2023 at 11:42 AM EDTUpdated: 35 minutes agoNetElixir hosts new webinar with Wharton Professor Jerry WindPETON, N.J., April 27, 2023 , one of the fastestgrowing independent digital marketing agencies in the , just announced a brand new webinar with Jerry Wind, the Lauder Professor Emeritus and Professor of Marketing at Th...\n",
       "200325    Urologists Explore AI for Prostate Cancer Detection and the Effects of Prostate Cancer on Female Partners Skip to  LocalWatch  NowFlood   ExclusiveWatch    WeatherMarch 2012 Tornado OutbreakWeather ClassGreat Health  OvertimeLocal Scores Food City Mountain ClassicMountain Top TenTop 5 Plays SportsMeet the Team UsCareers at  LocalOur Mountain  ScheduleSubmit Photos and     TVPowerNation GivesStudent   ReleasesLatest  Explore AI for Prostate Cancer Detection and the Effects of Prostate Cancer on Female : Apr. 28, 2023 at 8:05 AM EDTUpdated: 25 minutes agoCGO, April 28, 2023 PRNewswireWho can detect clinically significant prostate cancer better, a radiologist or Artificial Intelligence model How does prostate cancer have an impact on the sexual health of female partners of  explore AI for prostate cancer detection and the effects of prostate cancer on female partners at AUA 2023. will be presenting these prostate cancer study findings at the 118th Annual Scientific Meeting of the Amer...\n",
       "200326    Does AI mean the 4day workweek is almost hereTrinity Thomas ties record with 28th perfect 10  wins AA team titleNews Sports Crime Watch PhotosVideos Opinion Entertainment Obituaries eNewspaper LegalsNTBoes AI mean the 4day workweek is almost hereNicholas Goldberg Times SId like to work four days a week instead of five. Wouldnt youId take Fridays off. The way I imagine it, itd be just a few years from now. A robot in a butlers uniform would serve us drinks in the backyard on what used to be just another workday. Id toss a ball around with the kids while ChatGPT did their homework for them.Who says the world is going to hell and the future is bleak Artificial intelligence, advanced robotics and job automation hold out the hope of less work, more leisure and long weekends every weekend.Thats the view, anyway, of Christopher Pissarides, who was awarded a Nobel Prize in economics and believes that thanks to AI and automation, society could move to a fourday week easily.He said itin an a...\n",
       "Name: cleaned_text, Length: 186815, dtype: object"
      ]
     },
     "execution_count": 17,
     "metadata": {},
     "output_type": "execute_result"
    }
   ],
   "source": [
    "pd.options.display.max_colwidth=1000\n",
    "df_filt['cleaned_text']"
   ]
  },
  {
   "cell_type": "code",
   "execution_count": 18,
   "id": "819467e4-8221-44eb-abbc-414bfaa661a0",
   "metadata": {},
   "outputs": [],
   "source": [
    "df_filt_2020=df_filt[df_filt.year_pub==2020]\n",
    "df_filt_2021=df_filt[df_filt.year_pub==2021]\n",
    "df_filt_2022=df_filt[df_filt.year_pub==2022]\n",
    "df_filt_2023=df_filt[df_filt.year_pub==2023]"
   ]
  },
  {
   "cell_type": "code",
   "execution_count": null,
   "id": "a12cfa41-f19c-4af8-a1bb-73ae3397402d",
   "metadata": {},
   "outputs": [],
   "source": [
    "### KTrain Packages"
   ]
  },
  {
   "cell_type": "code",
   "execution_count": 9,
   "id": "141527dc-437e-4ed3-9132-ddfa5584206a",
   "metadata": {},
   "outputs": [
    {
     "name": "stdout",
     "output_type": "stream",
     "text": [
      "Python Version: 3.7.12 | packaged by conda-forge | (default, Oct 26 2021, 06:08:21) \n",
      "[GCC 9.4.0]\n",
      "TensorFlow Version: 2.8.4\n"
     ]
    }
   ],
   "source": [
    "import sys\n",
    "import os\n",
    "import numpy as np\n",
    "import pandas as pd\n",
    "import tensorflow as tf\n",
    "import re\n",
    "import string\n",
    "\n",
    "import nltk as nltk\n",
    "from nltk.corpus import stopwords\n",
    "from nltk.stem.wordnet import WordNetLemmatizer\n",
    "\n",
    "print('Python Version: ' + sys.version)\n",
    "print('TensorFlow Version: ' + tf.__version__)"
   ]
  },
  {
   "cell_type": "code",
   "execution_count": 10,
   "id": "eba4731a-1d15-40a5-bab8-dd146fa72916",
   "metadata": {},
   "outputs": [
    {
     "name": "stdout",
     "output_type": "stream",
     "text": [
      "Ktrain Version: 0.37.0\n"
     ]
    }
   ],
   "source": [
    "import ktrain\n",
    "print('Ktrain Version: ' + ktrain.__version__)"
   ]
  },
  {
   "cell_type": "code",
   "execution_count": 11,
   "id": "aff5c3b1-e0d8-4827-a8ea-f8f17ba0f7f8",
   "metadata": {},
   "outputs": [
    {
     "name": "stdout",
     "output_type": "stream",
     "text": [
      "Requirement already satisfied: bokeh in /opt/conda/lib/python3.7/site-packages (2.4.3)\n",
      "Requirement already satisfied: Jinja2>=2.9 in /opt/conda/lib/python3.7/site-packages (from bokeh) (3.1.2)\n",
      "Requirement already satisfied: numpy>=1.11.3 in /opt/conda/lib/python3.7/site-packages (from bokeh) (1.21.6)\n",
      "Requirement already satisfied: packaging>=16.8 in /opt/conda/lib/python3.7/site-packages (from bokeh) (23.1)\n",
      "Requirement already satisfied: pillow>=7.1.0 in /opt/conda/lib/python3.7/site-packages (from bokeh) (9.5.0)\n",
      "Requirement already satisfied: PyYAML>=3.10 in /opt/conda/lib/python3.7/site-packages (from bokeh) (6.0)\n",
      "Requirement already satisfied: tornado>=5.1 in /opt/conda/lib/python3.7/site-packages (from bokeh) (6.2)\n",
      "Requirement already satisfied: typing-extensions>=3.10.0 in /opt/conda/lib/python3.7/site-packages (from bokeh) (4.4.0)\n",
      "Requirement already satisfied: MarkupSafe>=2.0 in /opt/conda/lib/python3.7/site-packages (from Jinja2>=2.9->bokeh) (2.0.1)\n",
      "Note: you may need to restart the kernel to use updated packages.\n",
      "Bokeh Version: 2.4.3\n"
     ]
    }
   ],
   "source": [
    "%pip install bokeh\n",
    "import bokeh\n",
    "print('Bokeh Version: ' + bokeh.__version__)"
   ]
  },
  {
   "cell_type": "code",
   "execution_count": null,
   "id": "caa1ce4f-2912-4da6-bf1d-44ef915d0134",
   "metadata": {},
   "outputs": [],
   "source": []
  }
 ],
 "metadata": {
  "environment": {
   "kernel": "python3",
   "name": "tf2-gpu.2-8.m108",
   "type": "gcloud",
   "uri": "gcr.io/deeplearning-platform-release/tf2-gpu.2-8:m108"
  },
  "kernelspec": {
   "display_name": "Python 3 (ipykernel)",
   "language": "python",
   "name": "python3"
  },
  "language_info": {
   "codemirror_mode": {
    "name": "ipython",
    "version": 3
   },
   "file_extension": ".py",
   "mimetype": "text/x-python",
   "name": "python",
   "nbconvert_exporter": "python",
   "pygments_lexer": "ipython3",
   "version": "3.7.12"
  }
 },
 "nbformat": 4,
 "nbformat_minor": 5
}
