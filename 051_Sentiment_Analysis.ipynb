{
 "cells": [
  {
   "cell_type": "markdown",
   "id": "171b6701-5036-4224-a7d4-db1912f5e4f1",
   "metadata": {},
   "source": [
    "# **NB5.1 - Sentiment Analysis using binary classifier**"
   ]
  },
  {
   "cell_type": "markdown",
   "id": "bb0df11e-d968-4d5c-9379-4cf73a65c5ce",
   "metadata": {
    "jp-MarkdownHeadingCollapsed": true,
    "tags": []
   },
   "source": [
    "## Part 0: Importing Libraries"
   ]
  },
  {
   "cell_type": "code",
   "execution_count": 21,
   "id": "12a37302-fba4-410c-b593-fa11770b1677",
   "metadata": {},
   "outputs": [],
   "source": [
    "import sklearn\n",
    "import os\n",
    "import pandas as pd\n",
    "\n",
    "from sklearn.model_selection import train_test_split\n",
    "from sklearn.feature_extraction.text import CountVectorizer, HashingVectorizer, TfidfTransformer, TfidfVectorizer\n",
    "from sklearn.naive_bayes import MultinomialNB\n",
    "from sklearn.metrics import classification_report, confusion_matrix, accuracy_score\n",
    "from sklearn.linear_model import LogisticRegression, SGDClassifier\n",
    "from sklearn.pipeline import make_pipeline\n",
    "from sklearn import metrics\n",
    "\n",
    "from joblib import dump, load\n",
    "from joblib import Parallel, delayed"
   ]
  },
  {
   "cell_type": "code",
   "execution_count": 6,
   "id": "2c959969-e891-49db-a775-85233dd7c13d",
   "metadata": {},
   "outputs": [],
   "source": [
    "pd.set_option('display.max_colwidth', 200)"
   ]
  },
  {
   "cell_type": "code",
   "execution_count": 22,
   "id": "a3661024-82c2-46fe-a638-41a41566a450",
   "metadata": {},
   "outputs": [
    {
     "name": "stdout",
     "output_type": "stream",
     "text": [
      "Available CPUs: 16\n",
      "INFO: Pandarallel will run on 15 workers.\n",
      "INFO: Pandarallel will use standard multiprocessing data transfer (pipe) to transfer data between the main process and workers.\n"
     ]
    }
   ],
   "source": [
    "#pip install pandarallel\n",
    "import multiprocessing\n",
    "\n",
    "num_processors = multiprocessing.cpu_count()\n",
    "print(f'Available CPUs: {num_processors}')\n",
    "\n",
    "import pandarallel\n",
    "from pandarallel import pandarallel\n",
    "pandarallel.initialize(nb_workers=num_processors-1, use_memory_fs=False)"
   ]
  },
  {
   "cell_type": "code",
   "execution_count": 97,
   "id": "ec241e77-cf49-4451-bc00-4078fac8ec81",
   "metadata": {},
   "outputs": [
    {
     "name": "stdout",
     "output_type": "stream",
     "text": [
      "Bucket nlp_final_project_kshitijm connected.\n"
     ]
    }
   ],
   "source": [
    "# Imports the Google Cloud client library\n",
    "from google.cloud import storage\n",
    "# Instantiates a client\n",
    "storage_client = storage.Client()\n",
    "\n",
    "# The name for the new bucket\n",
    "bucket_name = \"nlp_final_project_kshitijm\"\n",
    "\n",
    "# Creates the new bucket\n",
    "bucket = storage_client.bucket(bucket_name)\n",
    "print(f\"Bucket {bucket.name} connected.\")"
   ]
  },
  {
   "cell_type": "markdown",
   "id": "4a945e99-f456-412d-8209-5f45a6d086b6",
   "metadata": {
    "jp-MarkdownHeadingCollapsed": true,
    "tags": []
   },
   "source": [
    "---\n",
    "## Part 1: Loading Yelp Data"
   ]
  },
  {
   "cell_type": "code",
   "execution_count": 9,
   "id": "f0198f17-9cb1-40ef-8bf0-2dc195298343",
   "metadata": {},
   "outputs": [
    {
     "data": {
      "text/plain": [
       "'https://storage.googleapis.com/msca-bdp-data-open/yelp/yelp_train_sentiment.json'"
      ]
     },
     "execution_count": 9,
     "metadata": {},
     "output_type": "execute_result"
    }
   ],
   "source": [
    "directory = 'https://storage.googleapis.com/msca-bdp-data-open/yelp/'\n",
    "fileName = 'yelp_train_sentiment.json'\n",
    "\n",
    "path = directory + fileName\n",
    "path"
   ]
  },
  {
   "cell_type": "code",
   "execution_count": 14,
   "id": "f1e530de-12f9-443b-93fa-7d710ebb32fd",
   "metadata": {},
   "outputs": [
    {
     "name": "stdout",
     "output_type": "stream",
     "text": [
      "CPU times: user 1.58 s, sys: 355 ms, total: 1.93 s\n",
      "Wall time: 2.17 s\n"
     ]
    },
    {
     "data": {
      "text/plain": [
       "(255717, 3)"
      ]
     },
     "execution_count": 14,
     "metadata": {},
     "output_type": "execute_result"
    }
   ],
   "source": [
    "%%time\n",
    "\n",
    "yelp = pd.read_json(path, orient='records', lines=True)\n",
    "yelp.shape"
   ]
  },
  {
   "cell_type": "code",
   "execution_count": 15,
   "id": "7f4ed3e2-0680-43db-bb00-3ff95e6f0a0e",
   "metadata": {},
   "outputs": [
    {
     "data": {
      "text/html": [
       "<div>\n",
       "<style scoped>\n",
       "    .dataframe tbody tr th:only-of-type {\n",
       "        vertical-align: middle;\n",
       "    }\n",
       "\n",
       "    .dataframe tbody tr th {\n",
       "        vertical-align: top;\n",
       "    }\n",
       "\n",
       "    .dataframe thead th {\n",
       "        text-align: right;\n",
       "    }\n",
       "</style>\n",
       "<table border=\"1\" class=\"dataframe\">\n",
       "  <thead>\n",
       "    <tr style=\"text-align: right;\">\n",
       "      <th></th>\n",
       "      <th>text</th>\n",
       "      <th>label</th>\n",
       "      <th>lang</th>\n",
       "    </tr>\n",
       "  </thead>\n",
       "  <tbody>\n",
       "    <tr>\n",
       "      <th>0</th>\n",
       "      <td>I love Deagan's. I do. I really do. The atmosphere is cozy and festive. The shrimp tacos and house fries are my standbys. The fries are sometimes good and sometimes great, and the spicy dipping sa...</td>\n",
       "      <td>1</td>\n",
       "      <td>en</td>\n",
       "    </tr>\n",
       "    <tr>\n",
       "      <th>1</th>\n",
       "      <td>I love the classes at this gym. Zumba and. Radio Hip Hop are my favorite. This is such a great fun and I love that it is so reasonably priced!</td>\n",
       "      <td>1</td>\n",
       "      <td>en</td>\n",
       "    </tr>\n",
       "    <tr>\n",
       "      <th>2</th>\n",
       "      <td>The tables and floor were dirty. I was the only customer on a Saturday nite and  the person working the counter ignored me I had a corned beef sandwich. I took three bites  and threw it in the trash</td>\n",
       "      <td>0</td>\n",
       "      <td>en</td>\n",
       "    </tr>\n",
       "    <tr>\n",
       "      <th>3</th>\n",
       "      <td>I had an oil change at the 15515 N Scottsdale Road location.  When the car was delivered to me, there were two engine warning lights on that had not been on when I drove the car in.  The technicia...</td>\n",
       "      <td>0</td>\n",
       "      <td>en</td>\n",
       "    </tr>\n",
       "    <tr>\n",
       "      <th>4</th>\n",
       "      <td>The absolute WORST apartment complex I have ever lived in. Moved here from out of state. Hoped to find a decently priced apartment until I got myself settled in. Wow this place has been trash. Lan...</td>\n",
       "      <td>0</td>\n",
       "      <td>en</td>\n",
       "    </tr>\n",
       "  </tbody>\n",
       "</table>\n",
       "</div>"
      ],
      "text/plain": [
       "                                                                                                                                                                                                      text  \\\n",
       "0  I love Deagan's. I do. I really do. The atmosphere is cozy and festive. The shrimp tacos and house fries are my standbys. The fries are sometimes good and sometimes great, and the spicy dipping sa...   \n",
       "1                                                           I love the classes at this gym. Zumba and. Radio Hip Hop are my favorite. This is such a great fun and I love that it is so reasonably priced!   \n",
       "2   The tables and floor were dirty. I was the only customer on a Saturday nite and  the person working the counter ignored me I had a corned beef sandwich. I took three bites  and threw it in the trash   \n",
       "3  I had an oil change at the 15515 N Scottsdale Road location.  When the car was delivered to me, there were two engine warning lights on that had not been on when I drove the car in.  The technicia...   \n",
       "4  The absolute WORST apartment complex I have ever lived in. Moved here from out of state. Hoped to find a decently priced apartment until I got myself settled in. Wow this place has been trash. Lan...   \n",
       "\n",
       "   label lang  \n",
       "0      1   en  \n",
       "1      1   en  \n",
       "2      0   en  \n",
       "3      0   en  \n",
       "4      0   en  "
      ]
     },
     "execution_count": 15,
     "metadata": {},
     "output_type": "execute_result"
    }
   ],
   "source": [
    "# examine the first 5 rows\n",
    "yelp.head(5)"
   ]
  },
  {
   "cell_type": "code",
   "execution_count": 16,
   "id": "70cc0ff6-d899-40ed-bef5-e590f2e12a5b",
   "metadata": {},
   "outputs": [
    {
     "name": "stdout",
     "output_type": "stream",
     "text": [
      "(255717,)\n",
      "(255717,)\n"
     ]
    }
   ],
   "source": [
    "# define X and y\n",
    "X = yelp['text']\n",
    "y = yelp['label']\n",
    "print(X.shape)\n",
    "print(y.shape)"
   ]
  },
  {
   "cell_type": "code",
   "execution_count": 17,
   "id": "d9a8c80a-2f88-425e-b519-6bf03cb2f860",
   "metadata": {},
   "outputs": [
    {
     "name": "stdout",
     "output_type": "stream",
     "text": [
      "(191787,)\n",
      "(63930,)\n",
      "(191787,)\n",
      "(63930,)\n"
     ]
    }
   ],
   "source": [
    "# split X and y into training and testing sets\n",
    "X_train, X_test, y_train, y_test = train_test_split(X, y, random_state=123)\n",
    "print(X_train.shape)\n",
    "print(X_test.shape)\n",
    "print(y_train.shape)\n",
    "print(y_test.shape)"
   ]
  },
  {
   "cell_type": "markdown",
   "id": "1e9d7e99-e2c8-47ae-b877-e2fa69efd0c7",
   "metadata": {
    "jp-MarkdownHeadingCollapsed": true,
    "tags": []
   },
   "source": [
    "---\n",
    "## Part 2: Trying different sklearn pipelines"
   ]
  },
  {
   "cell_type": "markdown",
   "id": "de55d213-d4f3-4b70-8799-88b98038ab1f",
   "metadata": {
    "tags": []
   },
   "source": [
    "#### Naive Bayes"
   ]
  },
  {
   "cell_type": "code",
   "execution_count": 30,
   "id": "a7e819bf-f4dc-4cdb-8793-d656d122f6e1",
   "metadata": {},
   "outputs": [
    {
     "name": "stdout",
     "output_type": "stream",
     "text": [
      "CPU times: user 2min 24s, sys: 4.54 s, total: 2min 29s\n",
      "Wall time: 2min 28s\n"
     ]
    },
    {
     "data": {
      "text/plain": [
       "Pipeline(steps=[('countvectorizer',\n",
       "                 CountVectorizer(lowercase=False, ngram_range=(1, 3),\n",
       "                                 stop_words='english')),\n",
       "                ('multinomialnb', MultinomialNB())])"
      ]
     },
     "execution_count": 30,
     "metadata": {},
     "output_type": "execute_result"
    }
   ],
   "source": [
    "pipe_nb = make_pipeline(\n",
    "    CountVectorizer(lowercase=False, stop_words='english', ngram_range=(1,3)),\n",
    "    MultinomialNB()\n",
    ")\n",
    "\n",
    "%time pipe_nb.fit(X_train, y_train)\n"
   ]
  },
  {
   "cell_type": "code",
   "execution_count": 31,
   "id": "66dc3bae-507f-4f16-ab39-9bc79c327ecf",
   "metadata": {},
   "outputs": [
    {
     "name": "stdout",
     "output_type": "stream",
     "text": [
      "CPU times: user 15 s, sys: 91.6 ms, total: 15 s\n",
      "Wall time: 15 s\n"
     ]
    }
   ],
   "source": [
    "%time y_pred_nb = pipe_nb.predict(X_test)"
   ]
  },
  {
   "cell_type": "code",
   "execution_count": 33,
   "id": "09d4807d-ca21-4aec-bf52-4b9def85600e",
   "metadata": {},
   "outputs": [
    {
     "name": "stdout",
     "output_type": "stream",
     "text": [
      "Test Accuracy: 94.6%\n",
      "              precision    recall  f1-score   support\n",
      "\n",
      "           0       0.92      0.98      0.95     32016\n",
      "           1       0.97      0.92      0.94     31914\n",
      "\n",
      "    accuracy                           0.95     63930\n",
      "   macro avg       0.95      0.95      0.95     63930\n",
      "weighted avg       0.95      0.95      0.95     63930\n",
      "\n"
     ]
    }
   ],
   "source": [
    "print(f\"Test Accuracy: {metrics.accuracy_score(y_test, y_pred_nb) * 100:.1f}%\")\n",
    "\n",
    "print(classification_report(y_test, y_pred_nb))"
   ]
  },
  {
   "cell_type": "code",
   "execution_count": 39,
   "id": "485e6934-077b-46d6-861e-b41b1b529213",
   "metadata": {},
   "outputs": [
    {
     "name": "stdout",
     "output_type": "stream",
     "text": [
      "CPU times: user 1min 41s, sys: 4.15 s, total: 1min 45s\n",
      "Wall time: 1min 45s\n"
     ]
    },
    {
     "data": {
      "text/plain": [
       "['/home/jupyter/Impact_Analysis_GenAI/05_SentAnalysis_models/pipe_nb.joblib']"
      ]
     },
     "execution_count": 39,
     "metadata": {},
     "output_type": "execute_result"
    }
   ],
   "source": [
    "%%time\n",
    "\n",
    "import os\n",
    "from joblib import dump\n",
    "\n",
    "directory = '/home/jupyter/Impact_Analysis_GenAI/05_SentAnalysis_models'\n",
    "if not os.path.exists(directory):\n",
    "    os.makedirs(directory)\n",
    "\n",
    "path = os.path.join(directory, 'pipe_nb.joblib')\n",
    "dump(pipe_nb, path)"
   ]
  },
  {
   "cell_type": "markdown",
   "id": "05e4caba-6ae2-4a92-8e63-43ae077332e7",
   "metadata": {
    "jp-MarkdownHeadingCollapsed": true,
    "tags": []
   },
   "source": [
    "---\n",
    "## Part 3: Extrapolating on our dataset"
   ]
  },
  {
   "cell_type": "markdown",
   "id": "f14b42ca-61a3-4971-99d5-3104ffee6e33",
   "metadata": {
    "jp-MarkdownHeadingCollapsed": true,
    "tags": []
   },
   "source": [
    "---\n",
    "#### Loading this model"
   ]
  },
  {
   "cell_type": "code",
   "execution_count": 40,
   "id": "249a7166-b1bf-4999-818d-1a2be45f83d9",
   "metadata": {},
   "outputs": [],
   "source": [
    "path_model = '/home/jupyter/Impact_Analysis_GenAI/05_SentAnalysis_models'"
   ]
  },
  {
   "cell_type": "code",
   "execution_count": 42,
   "id": "649ee35f-4601-4481-9693-01588af40a34",
   "metadata": {},
   "outputs": [
    {
     "name": "stdout",
     "output_type": "stream",
     "text": [
      "CPU times: user 52 s, sys: 2.48 s, total: 54.4 s\n",
      "Wall time: 53.6 s\n"
     ]
    }
   ],
   "source": [
    "%%time \n",
    "clf_nb = load(os.path.join(path_model, 'pipe_nb.joblib'))"
   ]
  },
  {
   "cell_type": "markdown",
   "id": "05f7a702-268b-4c0e-b5eb-d3400b3c7ca1",
   "metadata": {},
   "source": [
    "#### Loading the dataset"
   ]
  },
  {
   "cell_type": "code",
   "execution_count": 58,
   "id": "fc9237e4-2bca-4a54-8fec-cfb4235e7889",
   "metadata": {},
   "outputs": [
    {
     "data": {
      "text/html": [
       "<div>\n",
       "<style scoped>\n",
       "    .dataframe tbody tr th:only-of-type {\n",
       "        vertical-align: middle;\n",
       "    }\n",
       "\n",
       "    .dataframe tbody tr th {\n",
       "        vertical-align: top;\n",
       "    }\n",
       "\n",
       "    .dataframe thead th {\n",
       "        text-align: right;\n",
       "    }\n",
       "</style>\n",
       "<table border=\"1\" class=\"dataframe\">\n",
       "  <thead>\n",
       "    <tr style=\"text-align: right;\">\n",
       "      <th></th>\n",
       "      <th>url</th>\n",
       "      <th>date</th>\n",
       "      <th>language</th>\n",
       "      <th>title</th>\n",
       "      <th>text</th>\n",
       "      <th>cleaned_text</th>\n",
       "      <th>article_source</th>\n",
       "      <th>clean_title</th>\n",
       "      <th>title_tokens</th>\n",
       "      <th>cleaned_text_tokens</th>\n",
       "      <th>year_pub</th>\n",
       "      <th>month</th>\n",
       "      <th>month-year</th>\n",
       "      <th>flag_relevant</th>\n",
       "      <th>num_tokens</th>\n",
       "      <th>rake_phrases_articles</th>\n",
       "      <th>rake_phrases_joined</th>\n",
       "      <th>final_topic</th>\n",
       "    </tr>\n",
       "  </thead>\n",
       "  <tbody>\n",
       "    <tr>\n",
       "      <th>0</th>\n",
       "      <td>https://fusionscienceacademy.com/artificial-intelligence-ai-in-social-media-market-to-witness-slow-growth-owing-to-unfavorable-government-policies-2018-2026/</td>\n",
       "      <td>2020-01-30</td>\n",
       "      <td>en</td>\n",
       "      <td>Artificial Intelligence (AI) in Social Media  Market to Witness Slow Growth Owing to Unfavorable Government Policies 2018 – 2026 – Fusion Science Academy</td>\n",
       "      <td>\\n\\nArtificial Intelligence (AI) in Social Media  Market to Witness Slow Growth Owing to Unfavorable Government Policies 2018 – 2026 – Fusion Science Academy\\nAbout Us\\nOur Writers\\nContact Us\\nTe...</td>\n",
       "      <td>Artificial Intelligence AI in Social MediaMarket to Witness Slow Growth Owing to Unfavorable Government Policies 20182026Fusion Science AcademyOur WritersUs Terms and ConditionsJoin Our  with usF...</td>\n",
       "      <td>2026 – Fusion Science Academy</td>\n",
       "      <td>Artificial Intelligence (AI) in Social Media  Market to Witness Slow Growth Owing to Unfavorable Government Policies 2018</td>\n",
       "      <td>['artificial', 'intelligence', 'ai', 'social', 'media', 'market', 'witness', 'slow', 'growth', 'owing', 'unfavorable', 'government', 'policies']</td>\n",
       "      <td>['artificial', 'intelligence', 'ai', 'social', 'mediamarket', 'witness', 'slow', 'growth', 'owing', 'unfavorable', 'government', 'policies', 'fusion', 'science', 'academyour', 'writersus', 'terms'...</td>\n",
       "      <td>2020</td>\n",
       "      <td>1</td>\n",
       "      <td>Jan 2020</td>\n",
       "      <td>1</td>\n",
       "      <td>22283</td>\n",
       "      <td>[burkert fluid control systems emerson electric co honeywell internationalkitz corporation rotork plc schlumberger limited tyco international ltd watts water technologies, opportunitiestrends 2024...</td>\n",
       "      <td>burkert fluid control systems emerson electric co honeywell internationalkitz corporation rotork plc schlumberger limited tyco international ltd watts water technologies, opportunitiestrends 2024 ...</td>\n",
       "      <td>6</td>\n",
       "    </tr>\n",
       "    <tr>\n",
       "      <th>1</th>\n",
       "      <td>https://health.economictimes.indiatimes.com/news/diagnostics/researchers-develop-ai-system-to-detect-and-grade-prostate-cancer/73187612</td>\n",
       "      <td>2020-01-10</td>\n",
       "      <td>en</td>\n",
       "      <td>artificial intelligence: Researchers develop AI system to detect and grade prostate cancer, Health News, ET HealthWorld</td>\n",
       "      <td>\\n\\nartificial intelligence: Researchers develop AI system to detect and grade prostate cancer, Health News, ET HealthWorld\\n \\nSign in/Sign up\\n\\n NEWS SITES\\n\\t        \\n\\nRetail News Auto News ...</td>\n",
       "      <td>artificial intelligence: Researchers develop AI system to detect and grade prostate cancer, Health News, ET HealthWorldSign inSign upWS SITESRetail News Auto News Telecom News Energy News IT News...</td>\n",
       "      <td>None</td>\n",
       "      <td>artificial intelligence: Researchers develop AI system to detect and grade prostate cancer, Health News, ET HealthWorld</td>\n",
       "      <td>['artificial', 'intelligence', 'researchers', 'develop', 'ai', 'detect', 'grade', 'prostate', 'cancer', 'health', 'news', 'et', 'healthworld']</td>\n",
       "      <td>['artificial', 'intelligence', 'researchers', 'develop', 'ai', 'detect', 'grade', 'prostate', 'cancer', 'health', 'news', 'et', 'healthworldsign', 'insign', 'upnews', 'sitesretail', 'news', 'auto'...</td>\n",
       "      <td>2020</td>\n",
       "      <td>1</td>\n",
       "      <td>Jan 2020</td>\n",
       "      <td>1</td>\n",
       "      <td>8087</td>\n",
       "      <td>[economic times ethealthworldhome news hospitalspharmamedical devicesdiagnosticspolicyindustrypeople movementfinancial resultsinterviews blogs feature features trends startups medical specialties ...</td>\n",
       "      <td>economic times ethealthworldhome news hospitalspharmamedical devicesdiagnosticspolicyindustrypeople movementfinancial resultsinterviews blogs feature features trends startups medical specialties o...</td>\n",
       "      <td>1</td>\n",
       "    </tr>\n",
       "    <tr>\n",
       "      <th>2</th>\n",
       "      <td>https://heraldpublicist.com/bet-gil-on-ai-final-fantasy-tactics-matches-in-hilarious-twitch-stream/</td>\n",
       "      <td>2020-01-15</td>\n",
       "      <td>en</td>\n",
       "      <td>Bet Gil on AI Final Fantasy Tactics Matches in Hilarious Twitch Stream | Herald Publicist</td>\n",
       "      <td>\\n\\nBet Gil on AI Final Fantasy Tactics Matches in Hilarious Twitch Stream | Herald Publicist\\n\\nCONTACT US\\nPRIVACY  POlICY\\n \\n\\n \\n\\n \\n\\n\\nNewsTechnologyCricketPOLITICAL NEWSEDUCATION  \\nMegha...</td>\n",
       "      <td>Bet Gil on AI Final Fantasy Tactics Matches in Hilarious Twitch StreamHerald Publicist NTA   WSEDUTIOeghans wedding week war with her father: Court papers reveal message that destroyed relationsh...</td>\n",
       "      <td>Herald Publicist</td>\n",
       "      <td>Bet Gil on AI Final Fantasy Tactics Matches in Hilarious Twitch Stream</td>\n",
       "      <td>['bet', 'gil', 'ai', 'final', 'fantasy', 'tactics', 'matches', 'hilarious', 'twitch', 'stream']</td>\n",
       "      <td>['bet', 'gil', 'ai', 'final', 'fantasy', 'tactics', 'matches', 'hilarious', 'twitch', 'streamherald', 'publicist', 'contact', 'wedding', 'week', 'war', 'father', 'court', 'papers', 'reveal', 'mess...</td>\n",
       "      <td>2020</td>\n",
       "      <td>1</td>\n",
       "      <td>Jan 2020</td>\n",
       "      <td>1</td>\n",
       "      <td>4458</td>\n",
       "      <td>[hilarious twitch streamnewstechnologycricketpolitil wsedutionnews technology cricket politil ws edution pete add comment share thisfacebooktwittergoogle pluspinterestlinkedinentertanews bet gil, ...</td>\n",
       "      <td>hilarious twitch streamnewstechnologycricketpolitil wsedutionnews technology cricket politil ws edution pete add comment share thisfacebooktwittergoogle pluspinterestlinkedinentertanews bet gil, s...</td>\n",
       "      <td>1</td>\n",
       "    </tr>\n",
       "    <tr>\n",
       "      <th>3</th>\n",
       "      <td>https://honestversion.com/2020/01/24/growth-of-cloud-telecommunication-ai-market-in-global-industry-overview-size-and-share-2019-2024/</td>\n",
       "      <td>2020-01-24</td>\n",
       "      <td>en</td>\n",
       "      <td>Growth of Cloud Telecommunication AI market in global industry: overview, size and share 2019-2024 – Honest Version</td>\n",
       "      <td>\\n\\nGrowth of Cloud Telecommunication AI market in global industry: overview, size and share 2019-2024 – Honest Version\\n\\nSkip to content\\n\\nMenu\\nHOME\\nAbout Us\\nContact\\n \\n\\n  \\nHonest Version...</td>\n",
       "      <td>Growth of Cloud  AI market in global industry: overview, size and share 20192024Honest Version Skip to content Menu HOHonest Version Growth of Cloud  AI market in global industry: overview, size ...</td>\n",
       "      <td>Honest Version</td>\n",
       "      <td>Growth of Cloud Telecommunication AI market in global industry: overview, size and share 2019-2024</td>\n",
       "      <td>['growth', 'cloud', 'ai', 'market', 'global', 'industry', 'overview', 'size', 'share']</td>\n",
       "      <td>['growth', 'cloud', 'ai', 'market', 'global', 'industry', 'overview', 'size', 'share', 'honest', 'version', 'skip', 'content', 'menu', 'homehonest', 'version', 'growth', 'cloud', 'ai', 'market', '...</td>\n",
       "      <td>2020</td>\n",
       "      <td>1</td>\n",
       "      <td>Jan 2020</td>\n",
       "      <td>1</td>\n",
       "      <td>6048</td>\n",
       "      <td>[cloud telecommunication ai market strategic assessmentpost navigation previous postpreviouspcb design software market outlooks 2020, forecasts 2025next postnext global security awareness computer...</td>\n",
       "      <td>cloud telecommunication ai market strategic assessmentpost navigation previous postpreviouspcb design software market outlooks 2020, forecasts 2025next postnext global security awareness computerb...</td>\n",
       "      <td>6</td>\n",
       "    </tr>\n",
       "    <tr>\n",
       "      <th>4</th>\n",
       "      <td>https://marketresearchsheets.com/2020/01/31/global-artificial-intelligence-as-a-service-market-2019-competitive-analysis-by-introduction-ibm-google-amazon-web-services-microsoft/</td>\n",
       "      <td>2020-01-31</td>\n",
       "      <td>en</td>\n",
       "      <td>Global Artificial Intelligence as a Service Market 2019 Competitive Analysis by- Introduction, Ibm, Google, Amazon Web Services, Microsoft – Market Research Sheets</td>\n",
       "      <td>\\n\\nGlobal Artificial Intelligence as a Service Market 2019 Competitive Analysis by- Introduction, Ibm, Google, Amazon Web Services, Microsoft – Market Research Sheets\\n\\nAbout\\nContact\\nTeam\\nFee...</td>\n",
       "      <td>Global Artificial Intelligence as a Service Market 2019 Competitive Analysis by Introduction, Ibm, Google, Amazon Web Services, MicrosoftMarket Research Sheets AboutTeam Feedback Terms of UseMark...</td>\n",
       "      <td>Market Research Sheets</td>\n",
       "      <td>Global Artificial Intelligence as a Service Market 2019 Competitive Analysis by- Introduction, Ibm, Google, Amazon Web Services, Microsoft</td>\n",
       "      <td>['global', 'artificial', 'intelligence', 'service', 'market', 'competitive', 'analysis', 'introduction', 'ibm', 'google', 'amazon', 'web', 'services', 'microsoft']</td>\n",
       "      <td>['global', 'artificial', 'intelligence', 'service', 'market', 'competitive', 'analysis', 'introduction', 'ibm', 'google', 'amazon', 'web', 'services', 'microsoftmarket', 'research', 'sheets', 'abo...</td>\n",
       "      <td>2020</td>\n",
       "      <td>1</td>\n",
       "      <td>Jan 2020</td>\n",
       "      <td>1</td>\n",
       "      <td>10098</td>\n",
       "      <td>[service market trendsyou may also like news global automobile brake caliper market 2019 competitive analysis, 2026comment share thisfacebooktwittergoogle pluspinterestlinkedinrelated news global ...</td>\n",
       "      <td>service market trendsyou may also like news global automobile brake caliper market 2019 competitive analysis, 2026comment share thisfacebooktwittergoogle pluspinterestlinkedinrelated news global a...</td>\n",
       "      <td>6</td>\n",
       "    </tr>\n",
       "  </tbody>\n",
       "</table>\n",
       "</div>"
      ],
      "text/plain": [
       "                                                                                                                                                                                  url  \\\n",
       "0                       https://fusionscienceacademy.com/artificial-intelligence-ai-in-social-media-market-to-witness-slow-growth-owing-to-unfavorable-government-policies-2018-2026/   \n",
       "1                                             https://health.economictimes.indiatimes.com/news/diagnostics/researchers-develop-ai-system-to-detect-and-grade-prostate-cancer/73187612   \n",
       "2                                                                                 https://heraldpublicist.com/bet-gil-on-ai-final-fantasy-tactics-matches-in-hilarious-twitch-stream/   \n",
       "3                                              https://honestversion.com/2020/01/24/growth-of-cloud-telecommunication-ai-market-in-global-industry-overview-size-and-share-2019-2024/   \n",
       "4  https://marketresearchsheets.com/2020/01/31/global-artificial-intelligence-as-a-service-market-2019-competitive-analysis-by-introduction-ibm-google-amazon-web-services-microsoft/   \n",
       "\n",
       "        date language  \\\n",
       "0 2020-01-30       en   \n",
       "1 2020-01-10       en   \n",
       "2 2020-01-15       en   \n",
       "3 2020-01-24       en   \n",
       "4 2020-01-31       en   \n",
       "\n",
       "                                                                                                                                                                 title  \\\n",
       "0            Artificial Intelligence (AI) in Social Media  Market to Witness Slow Growth Owing to Unfavorable Government Policies 2018 – 2026 – Fusion Science Academy   \n",
       "1                                              artificial intelligence: Researchers develop AI system to detect and grade prostate cancer, Health News, ET HealthWorld   \n",
       "2                                                                            Bet Gil on AI Final Fantasy Tactics Matches in Hilarious Twitch Stream | Herald Publicist   \n",
       "3                                                  Growth of Cloud Telecommunication AI market in global industry: overview, size and share 2019-2024 – Honest Version   \n",
       "4  Global Artificial Intelligence as a Service Market 2019 Competitive Analysis by- Introduction, Ibm, Google, Amazon Web Services, Microsoft – Market Research Sheets   \n",
       "\n",
       "                                                                                                                                                                                                      text  \\\n",
       "0  \\n\\nArtificial Intelligence (AI) in Social Media  Market to Witness Slow Growth Owing to Unfavorable Government Policies 2018 – 2026 – Fusion Science Academy\\nAbout Us\\nOur Writers\\nContact Us\\nTe...   \n",
       "1  \\n\\nartificial intelligence: Researchers develop AI system to detect and grade prostate cancer, Health News, ET HealthWorld\\n \\nSign in/Sign up\\n\\n NEWS SITES\\n\\t        \\n\\nRetail News Auto News ...   \n",
       "2  \\n\\nBet Gil on AI Final Fantasy Tactics Matches in Hilarious Twitch Stream | Herald Publicist\\n\\nCONTACT US\\nPRIVACY  POlICY\\n \\n\\n \\n\\n \\n\\n\\nNewsTechnologyCricketPOLITICAL NEWSEDUCATION  \\nMegha...   \n",
       "3  \\n\\nGrowth of Cloud Telecommunication AI market in global industry: overview, size and share 2019-2024 – Honest Version\\n\\nSkip to content\\n\\nMenu\\nHOME\\nAbout Us\\nContact\\n \\n\\n  \\nHonest Version...   \n",
       "4  \\n\\nGlobal Artificial Intelligence as a Service Market 2019 Competitive Analysis by- Introduction, Ibm, Google, Amazon Web Services, Microsoft – Market Research Sheets\\n\\nAbout\\nContact\\nTeam\\nFee...   \n",
       "\n",
       "                                                                                                                                                                                              cleaned_text  \\\n",
       "0   Artificial Intelligence AI in Social MediaMarket to Witness Slow Growth Owing to Unfavorable Government Policies 20182026Fusion Science AcademyOur WritersUs Terms and ConditionsJoin Our  with usF...   \n",
       "1   artificial intelligence: Researchers develop AI system to detect and grade prostate cancer, Health News, ET HealthWorldSign inSign upWS SITESRetail News Auto News Telecom News Energy News IT News...   \n",
       "2   Bet Gil on AI Final Fantasy Tactics Matches in Hilarious Twitch StreamHerald Publicist NTA   WSEDUTIOeghans wedding week war with her father: Court papers reveal message that destroyed relationsh...   \n",
       "3   Growth of Cloud  AI market in global industry: overview, size and share 20192024Honest Version Skip to content Menu HOHonest Version Growth of Cloud  AI market in global industry: overview, size ...   \n",
       "4   Global Artificial Intelligence as a Service Market 2019 Competitive Analysis by Introduction, Ibm, Google, Amazon Web Services, MicrosoftMarket Research Sheets AboutTeam Feedback Terms of UseMark...   \n",
       "\n",
       "                  article_source  \\\n",
       "0  2026 – Fusion Science Academy   \n",
       "1                           None   \n",
       "2               Herald Publicist   \n",
       "3                 Honest Version   \n",
       "4         Market Research Sheets   \n",
       "\n",
       "                                                                                                                                  clean_title  \\\n",
       "0                   Artificial Intelligence (AI) in Social Media  Market to Witness Slow Growth Owing to Unfavorable Government Policies 2018   \n",
       "1                     artificial intelligence: Researchers develop AI system to detect and grade prostate cancer, Health News, ET HealthWorld   \n",
       "2                                                                      Bet Gil on AI Final Fantasy Tactics Matches in Hilarious Twitch Stream   \n",
       "3                                          Growth of Cloud Telecommunication AI market in global industry: overview, size and share 2019-2024   \n",
       "4  Global Artificial Intelligence as a Service Market 2019 Competitive Analysis by- Introduction, Ibm, Google, Amazon Web Services, Microsoft   \n",
       "\n",
       "                                                                                                                                                          title_tokens  \\\n",
       "0                     ['artificial', 'intelligence', 'ai', 'social', 'media', 'market', 'witness', 'slow', 'growth', 'owing', 'unfavorable', 'government', 'policies']   \n",
       "1                       ['artificial', 'intelligence', 'researchers', 'develop', 'ai', 'detect', 'grade', 'prostate', 'cancer', 'health', 'news', 'et', 'healthworld']   \n",
       "2                                                                      ['bet', 'gil', 'ai', 'final', 'fantasy', 'tactics', 'matches', 'hilarious', 'twitch', 'stream']   \n",
       "3                                                                               ['growth', 'cloud', 'ai', 'market', 'global', 'industry', 'overview', 'size', 'share']   \n",
       "4  ['global', 'artificial', 'intelligence', 'service', 'market', 'competitive', 'analysis', 'introduction', 'ibm', 'google', 'amazon', 'web', 'services', 'microsoft']   \n",
       "\n",
       "                                                                                                                                                                                       cleaned_text_tokens  \\\n",
       "0  ['artificial', 'intelligence', 'ai', 'social', 'mediamarket', 'witness', 'slow', 'growth', 'owing', 'unfavorable', 'government', 'policies', 'fusion', 'science', 'academyour', 'writersus', 'terms'...   \n",
       "1  ['artificial', 'intelligence', 'researchers', 'develop', 'ai', 'detect', 'grade', 'prostate', 'cancer', 'health', 'news', 'et', 'healthworldsign', 'insign', 'upnews', 'sitesretail', 'news', 'auto'...   \n",
       "2  ['bet', 'gil', 'ai', 'final', 'fantasy', 'tactics', 'matches', 'hilarious', 'twitch', 'streamherald', 'publicist', 'contact', 'wedding', 'week', 'war', 'father', 'court', 'papers', 'reveal', 'mess...   \n",
       "3  ['growth', 'cloud', 'ai', 'market', 'global', 'industry', 'overview', 'size', 'share', 'honest', 'version', 'skip', 'content', 'menu', 'homehonest', 'version', 'growth', 'cloud', 'ai', 'market', '...   \n",
       "4  ['global', 'artificial', 'intelligence', 'service', 'market', 'competitive', 'analysis', 'introduction', 'ibm', 'google', 'amazon', 'web', 'services', 'microsoftmarket', 'research', 'sheets', 'abo...   \n",
       "\n",
       "   year_pub  month month-year  flag_relevant  num_tokens  \\\n",
       "0      2020      1   Jan 2020              1       22283   \n",
       "1      2020      1   Jan 2020              1        8087   \n",
       "2      2020      1   Jan 2020              1        4458   \n",
       "3      2020      1   Jan 2020              1        6048   \n",
       "4      2020      1   Jan 2020              1       10098   \n",
       "\n",
       "                                                                                                                                                                                     rake_phrases_articles  \\\n",
       "0  [burkert fluid control systems emerson electric co honeywell internationalkitz corporation rotork plc schlumberger limited tyco international ltd watts water technologies, opportunitiestrends 2024...   \n",
       "1  [economic times ethealthworldhome news hospitalspharmamedical devicesdiagnosticspolicyindustrypeople movementfinancial resultsinterviews blogs feature features trends startups medical specialties ...   \n",
       "2  [hilarious twitch streamnewstechnologycricketpolitil wsedutionnews technology cricket politil ws edution pete add comment share thisfacebooktwittergoogle pluspinterestlinkedinentertanews bet gil, ...   \n",
       "3  [cloud telecommunication ai market strategic assessmentpost navigation previous postpreviouspcb design software market outlooks 2020, forecasts 2025next postnext global security awareness computer...   \n",
       "4  [service market trendsyou may also like news global automobile brake caliper market 2019 competitive analysis, 2026comment share thisfacebooktwittergoogle pluspinterestlinkedinrelated news global ...   \n",
       "\n",
       "                                                                                                                                                                                       rake_phrases_joined  \\\n",
       "0  burkert fluid control systems emerson electric co honeywell internationalkitz corporation rotork plc schlumberger limited tyco international ltd watts water technologies, opportunitiestrends 2024 ...   \n",
       "1  economic times ethealthworldhome news hospitalspharmamedical devicesdiagnosticspolicyindustrypeople movementfinancial resultsinterviews blogs feature features trends startups medical specialties o...   \n",
       "2  hilarious twitch streamnewstechnologycricketpolitil wsedutionnews technology cricket politil ws edution pete add comment share thisfacebooktwittergoogle pluspinterestlinkedinentertanews bet gil, s...   \n",
       "3  cloud telecommunication ai market strategic assessmentpost navigation previous postpreviouspcb design software market outlooks 2020, forecasts 2025next postnext global security awareness computerb...   \n",
       "4  service market trendsyou may also like news global automobile brake caliper market 2019 competitive analysis, 2026comment share thisfacebooktwittergoogle pluspinterestlinkedinrelated news global a...   \n",
       "\n",
       "   final_topic  \n",
       "0            6  \n",
       "1            1  \n",
       "2            1  \n",
       "3            6  \n",
       "4            6  "
      ]
     },
     "execution_count": 58,
     "metadata": {},
     "output_type": "execute_result"
    }
   ],
   "source": [
    "# df_filt_2020=pd.read_parquet('gs://nlp_final_project_kshitijm/00_Data/NLP_FP_Data5_2020_Topics.parquet')\n",
    "df_filt_2020.head()"
   ]
  },
  {
   "cell_type": "code",
   "execution_count": null,
   "id": "a1830150-34a6-4054-8b07-e1b15437cdfa",
   "metadata": {},
   "outputs": [],
   "source": [
    "content=df_filt_2020['cleaned_text'].to_list()\n",
    "# content.append(df_filt_2020.iloc[3]['cleaned_text'])\n",
    "content[:2]"
   ]
  },
  {
   "cell_type": "code",
   "execution_count": 64,
   "id": "a3c5197d-a5ef-4925-a05d-3d58a604d407",
   "metadata": {},
   "outputs": [
    {
     "name": "stdout",
     "output_type": "stream",
     "text": [
      "CPU times: user 1min 13s, sys: 275 ms, total: 1min 13s\n",
      "Wall time: 1min 13s\n"
     ]
    }
   ],
   "source": [
    "%time y_pred_nb = clf_nb.predict(content)"
   ]
  },
  {
   "cell_type": "code",
   "execution_count": 69,
   "id": "45a0cadd-c83d-4d25-a936-0c6fb7d7d992",
   "metadata": {},
   "outputs": [
    {
     "data": {
      "text/plain": [
       "array([0, 0, 0, ..., 0, 0, 0])"
      ]
     },
     "execution_count": 69,
     "metadata": {},
     "output_type": "execute_result"
    }
   ],
   "source": [
    "y_pred_nb"
   ]
  },
  {
   "cell_type": "code",
   "execution_count": 94,
   "id": "80334bdb-9cf3-4d31-bd12-20e07f82d043",
   "metadata": {},
   "outputs": [
    {
     "data": {
      "text/html": [
       "<div>\n",
       "<style scoped>\n",
       "    .dataframe tbody tr th:only-of-type {\n",
       "        vertical-align: middle;\n",
       "    }\n",
       "\n",
       "    .dataframe tbody tr th {\n",
       "        vertical-align: top;\n",
       "    }\n",
       "\n",
       "    .dataframe thead th {\n",
       "        text-align: right;\n",
       "    }\n",
       "</style>\n",
       "<table border=\"1\" class=\"dataframe\">\n",
       "  <thead>\n",
       "    <tr style=\"text-align: right;\">\n",
       "      <th></th>\n",
       "      <th>Articles</th>\n",
       "      <th>Sentiment</th>\n",
       "    </tr>\n",
       "  </thead>\n",
       "  <tbody>\n",
       "    <tr>\n",
       "      <th>12352</th>\n",
       "      <td>Artificial Intelligence for Drug Discovery Market to See Major Growth By 2026 Scoop Skip to content Tuesday, May 12, 2020Us Scoop Industry Analytics and Market News Global News Industry Reports Market Report Analysis Forecast Business Opportunity Consumption Status Emerging Trends Future Demands Growth Prospects Market Study Opportunities ForecastYou are hereHomeGlobal NewsArtificial Intelligence for Drug Discovery Market to See Major Growth By 2026Artificial Intelligence for Drug Discovery Market to See Major Growth By 2026May 11, 2020 Navanath R, , The Artificial Intelligence for Drug Discovery Market is well prepared, focusing on the competitive landscape, geographic growth, segmentation and market dynamics, including drivers, constraints and opportunities. It highlights key production, sales and consumption trends so players can improve their sales and growth in the Artificial Intelligence for Drug Discovery Market. It offers a detailed analysis of the competition and the leading companies in the Artificial Intelligence for Drug Discovery Market. Here it focuses on the latest developments, sales, market values, production, gross margin and other important factors in the business of top players operating in the Artificial Intelligence for Drug Discovery Market. Global Artificial Intelligence for Drug Discovery Market was valued at D 175.91 Million in 2018 and is projected to reach D 2,589.81 Million by 2026, growing at a GR of 39.9from 2019 to 2026. GetDownload Sample Copy @The various contributors to the value chain in the Artificial Intelligence for Drug Discovery Market include manufacturers:  CorporationDeep GenomicsIBM    With a comprehensive quantitative and qualitative analysis, the report offers an encyclopedic and accurate research study on important aspects of the Artificial Intelligence for Drug Discovery Market. It shows key factors that influence the growth of various segments and regions in the Artificial Intelligence for Drug Discovery Market. It also offers SWOT, Porters Five Forces and PESTLE analyzes to thoroughly examine the Artificial Intelligence for Drug Discovery Market. It contains a detailed study of manufacturing costs, upstream and downstream buyers, dealers, marketing strategies and development trends for marketing channels in the Artificial Intelligence for Drug Discovery Market. It also provides strategic advice and recommendations for players to ensure success in the Artificial Intelligence for Drug Discovery Market. Ask for Discount @Table of Contents: Overview: The report begins with an overview of the Artificial Intelligence for Drug Discovery Market, in which the authors discuss the scope of the products, type and application segments as well as the regional markets. This section also contains highlights of the market size analysis. Competition by manufacturers: Here, the analysts give the production share, the share of sales and the average price of the manufacturers for the reporting period 20142019. Readers are also provided with details on products, areas served and production facilities by manufacturers. This section contains another chapter that highlights various competitive situations and trends. Share of production by region: This section shows the gross margin, price, production and revenue of all regional markets examined in the report. Key players: Each player profiled in the report is rated for market growth based on served markets, core business, price, sales, gross margin, production, manufacturing locations, served areas and other factors. Production cost analysis: It includes the analysis of the main raw materials, the analysis of the production cost structure, the analysis of the manufacturing process and the analysis of the industrial chain. Market forecast: It includes the price and trend forecast, the sales and growth rate forecast and the forecast of the production growth rate of the global and regional markets for the forecast period 20192026. Finally, the Artificial Intelligence for Drug Discovery Market offers a general conclusion of research and the feasibility of investing in new projects is assessed. The Artificial Intelligence for Drug Discovery Market is a valuable guide for individuals and companies interested in selling the market. Receive a custom report in your inbox within 24 hours @: Verified market research partners with clients to provide insight into strategic and growth analytics data that help achieve business goals and targets. Our core values include trust, integrity, and authenticity for our clients. Analysts with high expertise in data gathering and governance utilize industry techniques to collate and examine data at all stages. Our analysts are trained to combine modern data collection techniques, superior research methodology, subject expertise and years of collective experience to produce informative and accurate research reports.Us: Mr. Edwyne FernandesCall: 1 650 781 4080Email: emailprotected TAGS: Artificial Intelligence for Drug Discovery Market Size, Artificial Intelligence for Drug Discovery Market Growth, Artificial Intelligence for Drug Discovery Market Forecast, Artificial Intelligence for Drug Discovery Market Analysis, Artificial Intelligence for Drug Discovery Market Trends, Artificial Intelligence for Drug Discovery Market Post navigation Artificial Intelligence Chip Market to See Major Growth By 2026Intelligent Transportation Systems Market to See Major Growth By 2026Related posts3D Printing Market to See Major Growth By 2026May 12, 2020 Navanath R, , The 3D Printing Market is well prepared, focusing on the competitive landscape,...Air Cooling Apparatus Market to See Major Growth By 2026May 12, 2020 Navanath R, , The Air Cooling Apparatus Market is well prepared, focusing on the competitive...Imaging Chemicals Market to See Major Growth By 2026May 12, 2020 Navanath R, , The Imaging Chemicals Market is well prepared, focusing on the competitive landscape,...Leave a Comment Cancel replyRecent Posts3D Printing Market to See Major Growth By 2026 Air Cooling Apparatus Market to See Major Growth By 2026 Imaging Chemicals Market to See Major Growth By 2026 Fat Filled Milk Powder Market Intelligence and Analysis for Period 20182028 UV Disinfection Market to See Major Growth By 2026All Right ReservedProudly powered by WordPressTheme: SuperNews by Acme Themes</td>\n",
       "      <td>1</td>\n",
       "    </tr>\n",
       "  </tbody>\n",
       "</table>\n",
       "</div>"
      ],
      "text/plain": [
       "                                                                                                                                                                                                                                                                                                                                                                                                                                                                                                                                                                                                                                                                                                                                                                                                                                                                                                                                                                                                                                                                                                                                                                                                                                                                                                                                                                                                                                                                                                                                                                                                                                                                                                                                                                                                                                                                                                                                                                                                                                                                                                                                                                                                                                                                                                                                                                                                                                                                                                                                                                                                                                                                                                                                                                                                                                                                                                                                                                                                                                                                                                                                                                                                                                                                                                                                                                                                                                                                                                                                                                                                                                                                                                                                                                                                                                                                                                                                                                                                                                                                                                                                                                                                                                                                                                                                                                                                                                                                                                                                                                                                                                                                                                                                                                                                                                                                                                                                                                                                                                                                                                                                                                                                                                                                                                                                                                                                                                                                                                                                                                                                                                                                                                                                                                                                                                                                                                                                                                                                                                                                                                                                                                                                                                                                                                                                                                                                                                                                                                                                                                                                                                Articles  \\\n",
       "12352   Artificial Intelligence for Drug Discovery Market to See Major Growth By 2026 Scoop Skip to content Tuesday, May 12, 2020Us Scoop Industry Analytics and Market News Global News Industry Reports Market Report Analysis Forecast Business Opportunity Consumption Status Emerging Trends Future Demands Growth Prospects Market Study Opportunities ForecastYou are hereHomeGlobal NewsArtificial Intelligence for Drug Discovery Market to See Major Growth By 2026Artificial Intelligence for Drug Discovery Market to See Major Growth By 2026May 11, 2020 Navanath R, , The Artificial Intelligence for Drug Discovery Market is well prepared, focusing on the competitive landscape, geographic growth, segmentation and market dynamics, including drivers, constraints and opportunities. It highlights key production, sales and consumption trends so players can improve their sales and growth in the Artificial Intelligence for Drug Discovery Market. It offers a detailed analysis of the competition and the leading companies in the Artificial Intelligence for Drug Discovery Market. Here it focuses on the latest developments, sales, market values, production, gross margin and other important factors in the business of top players operating in the Artificial Intelligence for Drug Discovery Market. Global Artificial Intelligence for Drug Discovery Market was valued at D 175.91 Million in 2018 and is projected to reach D 2,589.81 Million by 2026, growing at a GR of 39.9from 2019 to 2026. GetDownload Sample Copy @The various contributors to the value chain in the Artificial Intelligence for Drug Discovery Market include manufacturers:  CorporationDeep GenomicsIBM    With a comprehensive quantitative and qualitative analysis, the report offers an encyclopedic and accurate research study on important aspects of the Artificial Intelligence for Drug Discovery Market. It shows key factors that influence the growth of various segments and regions in the Artificial Intelligence for Drug Discovery Market. It also offers SWOT, Porters Five Forces and PESTLE analyzes to thoroughly examine the Artificial Intelligence for Drug Discovery Market. It contains a detailed study of manufacturing costs, upstream and downstream buyers, dealers, marketing strategies and development trends for marketing channels in the Artificial Intelligence for Drug Discovery Market. It also provides strategic advice and recommendations for players to ensure success in the Artificial Intelligence for Drug Discovery Market. Ask for Discount @Table of Contents: Overview: The report begins with an overview of the Artificial Intelligence for Drug Discovery Market, in which the authors discuss the scope of the products, type and application segments as well as the regional markets. This section also contains highlights of the market size analysis. Competition by manufacturers: Here, the analysts give the production share, the share of sales and the average price of the manufacturers for the reporting period 20142019. Readers are also provided with details on products, areas served and production facilities by manufacturers. This section contains another chapter that highlights various competitive situations and trends. Share of production by region: This section shows the gross margin, price, production and revenue of all regional markets examined in the report. Key players: Each player profiled in the report is rated for market growth based on served markets, core business, price, sales, gross margin, production, manufacturing locations, served areas and other factors. Production cost analysis: It includes the analysis of the main raw materials, the analysis of the production cost structure, the analysis of the manufacturing process and the analysis of the industrial chain. Market forecast: It includes the price and trend forecast, the sales and growth rate forecast and the forecast of the production growth rate of the global and regional markets for the forecast period 20192026. Finally, the Artificial Intelligence for Drug Discovery Market offers a general conclusion of research and the feasibility of investing in new projects is assessed. The Artificial Intelligence for Drug Discovery Market is a valuable guide for individuals and companies interested in selling the market. Receive a custom report in your inbox within 24 hours @: Verified market research partners with clients to provide insight into strategic and growth analytics data that help achieve business goals and targets. Our core values include trust, integrity, and authenticity for our clients. Analysts with high expertise in data gathering and governance utilize industry techniques to collate and examine data at all stages. Our analysts are trained to combine modern data collection techniques, superior research methodology, subject expertise and years of collective experience to produce informative and accurate research reports.Us: Mr. Edwyne FernandesCall: 1 650 781 4080Email: emailprotected TAGS: Artificial Intelligence for Drug Discovery Market Size, Artificial Intelligence for Drug Discovery Market Growth, Artificial Intelligence for Drug Discovery Market Forecast, Artificial Intelligence for Drug Discovery Market Analysis, Artificial Intelligence for Drug Discovery Market Trends, Artificial Intelligence for Drug Discovery Market Post navigation Artificial Intelligence Chip Market to See Major Growth By 2026Intelligent Transportation Systems Market to See Major Growth By 2026Related posts3D Printing Market to See Major Growth By 2026May 12, 2020 Navanath R, , The 3D Printing Market is well prepared, focusing on the competitive landscape,...Air Cooling Apparatus Market to See Major Growth By 2026May 12, 2020 Navanath R, , The Air Cooling Apparatus Market is well prepared, focusing on the competitive...Imaging Chemicals Market to See Major Growth By 2026May 12, 2020 Navanath R, , The Imaging Chemicals Market is well prepared, focusing on the competitive landscape,...Leave a Comment Cancel replyRecent Posts3D Printing Market to See Major Growth By 2026 Air Cooling Apparatus Market to See Major Growth By 2026 Imaging Chemicals Market to See Major Growth By 2026 Fat Filled Milk Powder Market Intelligence and Analysis for Period 20182028 UV Disinfection Market to See Major Growth By 2026All Right ReservedProudly powered by WordPressTheme: SuperNews by Acme Themes   \n",
       "\n",
       "       Sentiment  \n",
       "12352          1  "
      ]
     },
     "execution_count": 94,
     "metadata": {},
     "output_type": "execute_result"
    }
   ],
   "source": [
    "pd.options.display.max_colwidth=None\n",
    "# sent_df=pd.DataFrame({\"Articles\":content, \"Sentiment\":y_pred_nb})\n",
    "sent_df[sent_df.Sentiment==1].sample(1)"
   ]
  },
  {
   "cell_type": "code",
   "execution_count": 93,
   "id": "f840b08a-7918-447a-b108-7ab55beab5ab",
   "metadata": {},
   "outputs": [
    {
     "data": {
      "text/plain": [
       "0    31488\n",
       "1     1179\n",
       "Name: Sentiment, dtype: int64"
      ]
     },
     "execution_count": 93,
     "metadata": {},
     "output_type": "execute_result"
    }
   ],
   "source": [
    "sent_df['Sentiment'].value_counts()"
   ]
  },
  {
   "cell_type": "markdown",
   "id": "74397f56-7857-49c3-93c8-b7a717c2e9f5",
   "metadata": {},
   "source": [
    "We see positive classes being identified correctly, but not negative classes"
   ]
  }
 ],
 "metadata": {
  "environment": {
   "kernel": "python3",
   "name": "tf2-gpu.2-11.m108",
   "type": "gcloud",
   "uri": "gcr.io/deeplearning-platform-release/tf2-gpu.2-11:m108"
  },
  "kernelspec": {
   "display_name": "Python 3 (ipykernel)",
   "language": "python",
   "name": "python3"
  },
  "language_info": {
   "codemirror_mode": {
    "name": "ipython",
    "version": 3
   },
   "file_extension": ".py",
   "mimetype": "text/x-python",
   "name": "python",
   "nbconvert_exporter": "python",
   "pygments_lexer": "ipython3",
   "version": "3.10.10"
  }
 },
 "nbformat": 4,
 "nbformat_minor": 5
}
