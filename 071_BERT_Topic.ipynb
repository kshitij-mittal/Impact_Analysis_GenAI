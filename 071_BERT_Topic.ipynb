{
 "cells": [
  {
   "cell_type": "code",
   "execution_count": 1,
   "id": "8ebcde4f-b4b2-4cca-a255-0a2d81138649",
   "metadata": {},
   "outputs": [],
   "source": [
    "import os\n",
    "import requests\n",
    "import re\n",
    "import sys\n",
    "import regex as re"
   ]
  },
  {
   "cell_type": "code",
   "execution_count": 2,
   "id": "10846502-037e-4d52-8b70-715fe35a7d89",
   "metadata": {},
   "outputs": [],
   "source": [
    "import pandas as pd\n",
    "import numpy as np\n",
    "import sklearn\n",
    "\n",
    "import matplotlib.pyplot as plt\n",
    "%matplotlib inline\n",
    "import seaborn as sns\n",
    "# Graphics in SVG format are more sharp and legible\n",
    "%config InlineBackend.figure_format = 'svg'\n",
    "import warnings\n",
    "warnings.filterwarnings(\"ignore\")"
   ]
  },
  {
   "cell_type": "code",
   "execution_count": 3,
   "id": "79882cf3-4790-4f08-ae16-46647c8edd63",
   "metadata": {},
   "outputs": [
    {
     "name": "stdout",
     "output_type": "stream",
     "text": [
      "Bucket nlp_final_project_kshitijm connected.\n"
     ]
    }
   ],
   "source": [
    "# Imports the Google Cloud client library\n",
    "from google.cloud import storage\n",
    "# Instantiates a client\n",
    "storage_client = storage.Client()\n",
    "\n",
    "# The name for the new bucket\n",
    "bucket_name = \"nlp_final_project_kshitijm\"\n",
    "\n",
    "# Creates the new bucket\n",
    "bucket = storage_client.bucket(bucket_name)\n",
    "print(f\"Bucket {bucket.name} connected.\")"
   ]
  },
  {
   "cell_type": "code",
   "execution_count": 4,
   "id": "76c32efe-1496-4f36-bbda-220fca5837df",
   "metadata": {},
   "outputs": [
    {
     "name": "stdout",
     "output_type": "stream",
     "text": [
      "CPU times: user 1min 54s, sys: 14.2 s, total: 2min 8s\n",
      "Wall time: 5min 27s\n"
     ]
    }
   ],
   "source": [
    "%%time\n",
    "df_filt_2020=pd.read_csv('gs://nlp_final_project_kshitijm/00_Data/NLP_FP_Data5_2021_Topics_Sentiments_NER.csv',lineterminator='\\n')\n",
    "df_filt_2021=pd.read_csv('gs://nlp_final_project_kshitijm/00_Data/NLP_FP_Data6_2021v2_Topics_Sentiments_NER.csv',lineterminator='\\n')\n",
    "df_filt_2022=pd.read_csv('gs://nlp_final_project_kshitijm/00_Data/NLP_FP_Data6_2022_Topics_Sentiments_NER.csv', lineterminator='\\n')\n",
    "df_filt_2023=pd.read_csv('gs://nlp_final_project_kshitijm/00_Data/NLP_FP_Data6_2023_Topics_Sentiments_NER.csv', lineterminator='\\n')"
   ]
  },
  {
   "cell_type": "code",
   "execution_count": 5,
   "id": "deaa3cee-48a2-40e1-9297-9033e38e0f9a",
   "metadata": {},
   "outputs": [],
   "source": [
    "df_filt_all=pd.concat([df_filt_2020, df_filt_2021, df_filt_2022, df_filt_2023])"
   ]
  },
  {
   "cell_type": "code",
   "execution_count": 6,
   "id": "a3991aed-fb37-4fa1-ab74-f34956265bee",
   "metadata": {},
   "outputs": [],
   "source": [
    "df_filt_pos=df_filt_all[df_filt_all.sent_label==2]\n"
   ]
  },
  {
   "cell_type": "code",
   "execution_count": 7,
   "id": "7721ae9f-0712-4488-9936-f0795fd1de53",
   "metadata": {},
   "outputs": [
    {
     "data": {
      "text/html": [
       "<div>\n",
       "<style scoped>\n",
       "    .dataframe tbody tr th:only-of-type {\n",
       "        vertical-align: middle;\n",
       "    }\n",
       "\n",
       "    .dataframe tbody tr th {\n",
       "        vertical-align: top;\n",
       "    }\n",
       "\n",
       "    .dataframe thead th {\n",
       "        text-align: right;\n",
       "    }\n",
       "</style>\n",
       "<table border=\"1\" class=\"dataframe\">\n",
       "  <thead>\n",
       "    <tr style=\"text-align: right;\">\n",
       "      <th></th>\n",
       "      <th>Unnamed: 0.1</th>\n",
       "      <th>Unnamed: 0</th>\n",
       "      <th>url</th>\n",
       "      <th>date</th>\n",
       "      <th>language</th>\n",
       "      <th>title</th>\n",
       "      <th>text</th>\n",
       "      <th>cleaned_text</th>\n",
       "      <th>article_source</th>\n",
       "      <th>clean_title</th>\n",
       "      <th>...</th>\n",
       "      <th>rake_phrases_articles</th>\n",
       "      <th>rake_phrases_joined</th>\n",
       "      <th>final_topic</th>\n",
       "      <th>sent_probs</th>\n",
       "      <th>sent_label</th>\n",
       "      <th>entities_spacy</th>\n",
       "      <th>ENT_ORG</th>\n",
       "      <th>ENT_PROD</th>\n",
       "      <th>ENT_PER</th>\n",
       "      <th>ENT_NORP</th>\n",
       "    </tr>\n",
       "  </thead>\n",
       "  <tbody>\n",
       "    <tr>\n",
       "      <th>1</th>\n",
       "      <td>1.0</td>\n",
       "      <td>1</td>\n",
       "      <td>https://health.economictimes.indiatimes.com/ne...</td>\n",
       "      <td>2020-01-10</td>\n",
       "      <td>en</td>\n",
       "      <td>artificial intelligence: Researchers develop A...</td>\n",
       "      <td>\\n\\nartificial intelligence: Researchers devel...</td>\n",
       "      <td>artificial intelligence: Researchers develop ...</td>\n",
       "      <td>NaN</td>\n",
       "      <td>artificial intelligence: Researchers develop A...</td>\n",
       "      <td>...</td>\n",
       "      <td>['economic times ethealthworldhome news hospit...</td>\n",
       "      <td>economic times ethealthworldhome news hospital...</td>\n",
       "      <td>1</td>\n",
       "      <td>[[1.9508268e-04 8.0524624e-04 9.9899966e-01]]</td>\n",
       "      <td>2</td>\n",
       "      <td>[('AI', 'PRODUCT'), ('Health News', 'ORG'), ('...</td>\n",
       "      <td>['Health News', 'ETHealthworld', 'The Economic...</td>\n",
       "      <td>['AI', 'NewsJavascript', 'AI', 'AIsystem', 'AI...</td>\n",
       "      <td>['worldleading uropathologists', 'Martin Eklun...</td>\n",
       "      <td>['Swedish', 'Chinese']</td>\n",
       "    </tr>\n",
       "    <tr>\n",
       "      <th>5</th>\n",
       "      <td>5.0</td>\n",
       "      <td>5</td>\n",
       "      <td>https://www.connectionsmagazine.com/article/ai...</td>\n",
       "      <td>2020-01-07</td>\n",
       "      <td>en</td>\n",
       "      <td>AI and Machine Learning | Connections Magazine</td>\n",
       "      <td>\\n\\nAI and Machine Learning | Connections Maga...</td>\n",
       "      <td>AI and Machine  Magazine Connections Magazine...</td>\n",
       "      <td>Connections Magazine</td>\n",
       "      <td>AI and Machine Learning</td>\n",
       "      <td>...</td>\n",
       "      <td>['select monthjanuary 2020 11december 2019 1no...</td>\n",
       "      <td>select monthjanuary 2020 11december 2019 1nove...</td>\n",
       "      <td>2</td>\n",
       "      <td>[[2.3212399e-04 1.6879650e-04 9.9959904e-01]]</td>\n",
       "      <td>2</td>\n",
       "      <td>[('AI', 'PRODUCT'), ('Machine  Magazine Connec...</td>\n",
       "      <td>['Machine  Magazine Connections', 'Home Vendor...</td>\n",
       "      <td>['AI']</td>\n",
       "      <td>['ServiceUs About', 'Peter DeHaan', 'Peter DeH...</td>\n",
       "      <td>[]</td>\n",
       "    </tr>\n",
       "    <tr>\n",
       "      <th>6</th>\n",
       "      <td>6.0</td>\n",
       "      <td>6</td>\n",
       "      <td>https://www.devdiscourse.com/article/business/...</td>\n",
       "      <td>2020-01-23</td>\n",
       "      <td>en</td>\n",
       "      <td>Air New Zealand trialing in computer vision AI...</td>\n",
       "      <td>\\n\\nAir New Zealand trialing in computer visio...</td>\n",
       "      <td>Air  trialing in computer vision AI to improv...</td>\n",
       "      <td>NaN</td>\n",
       "      <td>Air New Zealand trialing in computer vision AI...</td>\n",
       "      <td>...</td>\n",
       "      <td>['caribbeanhowsresechlive diourseblogopionsubt...</td>\n",
       "      <td>caribbeanhowsresechlive diourseblogopionsubt p...</td>\n",
       "      <td>2</td>\n",
       "      <td>[[1.9538931e-04 3.4055416e-03 9.9639904e-01]]</td>\n",
       "      <td>2</td>\n",
       "      <td>[('Air', 'ORG'), ('AI', 'PRODUCT'), ('AsiaEast...</td>\n",
       "      <td>['Air', 'AsiaEast', 'Central AsiaCentral Afric...</td>\n",
       "      <td>['AI', 'AI', 'Apron AI', 'Apron AI', 'AI', 'AI...</td>\n",
       "      <td>['Willis', 'Willis', 'Jennifer Sepull', 'Assai...</td>\n",
       "      <td>['Democrats']</td>\n",
       "    </tr>\n",
       "    <tr>\n",
       "      <th>9</th>\n",
       "      <td>9.0</td>\n",
       "      <td>9</td>\n",
       "      <td>https://www.globenewswire.com/news-release/202...</td>\n",
       "      <td>2020-01-16</td>\n",
       "      <td>en</td>\n",
       "      <td>The global artificial intelligence (AI) in BFS...</td>\n",
       "      <td>\\nThe global artificial intelligence (AI) in B...</td>\n",
       "      <td>The global artificial intelligence AI in BFSI...</td>\n",
       "      <td>NaN</td>\n",
       "      <td>The global artificial intelligence (AI) in BFS...</td>\n",
       "      <td>...</td>\n",
       "      <td>['intel corporationinternational business mach...</td>\n",
       "      <td>intel corporationinternational business machin...</td>\n",
       "      <td>6</td>\n",
       "      <td>[[2.2198893e-04 1.8831962e-04 9.9958974e-01]]</td>\n",
       "      <td>2</td>\n",
       "      <td>[('AI', 'PRODUCT'), ('17,765.2 million', 'CARD...</td>\n",
       "      <td>['GR', 'GR', 'Services', 'Solution Chatbots, F...</td>\n",
       "      <td>['AI', 'AI', 'AI', 'AI', 'AI', 'AI', 'AI', 'AI...</td>\n",
       "      <td>['.Ipsoft .Zest FinanceRead', 'Clare']</td>\n",
       "      <td>['FranaisUs']</td>\n",
       "    </tr>\n",
       "    <tr>\n",
       "      <th>10</th>\n",
       "      <td>10.0</td>\n",
       "      <td>10</td>\n",
       "      <td>https://www.healthcareitnews.com/news/google-a...</td>\n",
       "      <td>2020-01-08</td>\n",
       "      <td>en</td>\n",
       "      <td>Google AI platform aids oncologists in breast ...</td>\n",
       "      <td>\\nGoogle AI platform aids oncologists in breas...</td>\n",
       "      <td>Google AI platform aids oncologists in breast...</td>\n",
       "      <td>Healthcare IT News</td>\n",
       "      <td>Google AI platform aids oncologists in breast ...</td>\n",
       "      <td>...</td>\n",
       "      <td>['toggle navigation main menutopics video anal...</td>\n",
       "      <td>toggle navigation main menutopics video analyt...</td>\n",
       "      <td>1</td>\n",
       "      <td>[[1.8943226e-04 7.0772506e-04 9.9910283e-01]]</td>\n",
       "      <td>2</td>\n",
       "      <td>[('Google AI', 'ORG'), ('Google', 'ORG'), ('He...</td>\n",
       "      <td>['Google AI', 'Google', 'Healthcare ITstraight...</td>\n",
       "      <td>['DeepMind', 'AI', 'AI', 'AI', 'AI', 'AI']</td>\n",
       "      <td>['Nathan EddyJanuary 07', 'Xray', 'Shravya She...</td>\n",
       "      <td>[]</td>\n",
       "    </tr>\n",
       "  </tbody>\n",
       "</table>\n",
       "<p>5 rows × 27 columns</p>\n",
       "</div>"
      ],
      "text/plain": [
       "    Unnamed: 0.1  Unnamed: 0  \\\n",
       "1            1.0           1   \n",
       "5            5.0           5   \n",
       "6            6.0           6   \n",
       "9            9.0           9   \n",
       "10          10.0          10   \n",
       "\n",
       "                                                  url        date language  \\\n",
       "1   https://health.economictimes.indiatimes.com/ne...  2020-01-10       en   \n",
       "5   https://www.connectionsmagazine.com/article/ai...  2020-01-07       en   \n",
       "6   https://www.devdiscourse.com/article/business/...  2020-01-23       en   \n",
       "9   https://www.globenewswire.com/news-release/202...  2020-01-16       en   \n",
       "10  https://www.healthcareitnews.com/news/google-a...  2020-01-08       en   \n",
       "\n",
       "                                                title  \\\n",
       "1   artificial intelligence: Researchers develop A...   \n",
       "5      AI and Machine Learning | Connections Magazine   \n",
       "6   Air New Zealand trialing in computer vision AI...   \n",
       "9   The global artificial intelligence (AI) in BFS...   \n",
       "10  Google AI platform aids oncologists in breast ...   \n",
       "\n",
       "                                                 text  \\\n",
       "1   \\n\\nartificial intelligence: Researchers devel...   \n",
       "5   \\n\\nAI and Machine Learning | Connections Maga...   \n",
       "6   \\n\\nAir New Zealand trialing in computer visio...   \n",
       "9   \\nThe global artificial intelligence (AI) in B...   \n",
       "10  \\nGoogle AI platform aids oncologists in breas...   \n",
       "\n",
       "                                         cleaned_text        article_source  \\\n",
       "1    artificial intelligence: Researchers develop ...                   NaN   \n",
       "5    AI and Machine  Magazine Connections Magazine...  Connections Magazine   \n",
       "6    Air  trialing in computer vision AI to improv...                   NaN   \n",
       "9    The global artificial intelligence AI in BFSI...                   NaN   \n",
       "10   Google AI platform aids oncologists in breast...    Healthcare IT News   \n",
       "\n",
       "                                          clean_title  ...  \\\n",
       "1   artificial intelligence: Researchers develop A...  ...   \n",
       "5                             AI and Machine Learning  ...   \n",
       "6   Air New Zealand trialing in computer vision AI...  ...   \n",
       "9   The global artificial intelligence (AI) in BFS...  ...   \n",
       "10  Google AI platform aids oncologists in breast ...  ...   \n",
       "\n",
       "                                rake_phrases_articles  \\\n",
       "1   ['economic times ethealthworldhome news hospit...   \n",
       "5   ['select monthjanuary 2020 11december 2019 1no...   \n",
       "6   ['caribbeanhowsresechlive diourseblogopionsubt...   \n",
       "9   ['intel corporationinternational business mach...   \n",
       "10  ['toggle navigation main menutopics video anal...   \n",
       "\n",
       "                                  rake_phrases_joined  final_topic  \\\n",
       "1   economic times ethealthworldhome news hospital...            1   \n",
       "5   select monthjanuary 2020 11december 2019 1nove...            2   \n",
       "6   caribbeanhowsresechlive diourseblogopionsubt p...            2   \n",
       "9   intel corporationinternational business machin...            6   \n",
       "10  toggle navigation main menutopics video analyt...            1   \n",
       "\n",
       "                                       sent_probs sent_label  \\\n",
       "1   [[1.9508268e-04 8.0524624e-04 9.9899966e-01]]          2   \n",
       "5   [[2.3212399e-04 1.6879650e-04 9.9959904e-01]]          2   \n",
       "6   [[1.9538931e-04 3.4055416e-03 9.9639904e-01]]          2   \n",
       "9   [[2.2198893e-04 1.8831962e-04 9.9958974e-01]]          2   \n",
       "10  [[1.8943226e-04 7.0772506e-04 9.9910283e-01]]          2   \n",
       "\n",
       "                                       entities_spacy  \\\n",
       "1   [('AI', 'PRODUCT'), ('Health News', 'ORG'), ('...   \n",
       "5   [('AI', 'PRODUCT'), ('Machine  Magazine Connec...   \n",
       "6   [('Air', 'ORG'), ('AI', 'PRODUCT'), ('AsiaEast...   \n",
       "9   [('AI', 'PRODUCT'), ('17,765.2 million', 'CARD...   \n",
       "10  [('Google AI', 'ORG'), ('Google', 'ORG'), ('He...   \n",
       "\n",
       "                                              ENT_ORG  \\\n",
       "1   ['Health News', 'ETHealthworld', 'The Economic...   \n",
       "5   ['Machine  Magazine Connections', 'Home Vendor...   \n",
       "6   ['Air', 'AsiaEast', 'Central AsiaCentral Afric...   \n",
       "9   ['GR', 'GR', 'Services', 'Solution Chatbots, F...   \n",
       "10  ['Google AI', 'Google', 'Healthcare ITstraight...   \n",
       "\n",
       "                                             ENT_PROD  \\\n",
       "1   ['AI', 'NewsJavascript', 'AI', 'AIsystem', 'AI...   \n",
       "5                                              ['AI']   \n",
       "6   ['AI', 'AI', 'Apron AI', 'Apron AI', 'AI', 'AI...   \n",
       "9   ['AI', 'AI', 'AI', 'AI', 'AI', 'AI', 'AI', 'AI...   \n",
       "10         ['DeepMind', 'AI', 'AI', 'AI', 'AI', 'AI']   \n",
       "\n",
       "                                              ENT_PER                ENT_NORP  \n",
       "1   ['worldleading uropathologists', 'Martin Eklun...  ['Swedish', 'Chinese']  \n",
       "5   ['ServiceUs About', 'Peter DeHaan', 'Peter DeH...                      []  \n",
       "6   ['Willis', 'Willis', 'Jennifer Sepull', 'Assai...           ['Democrats']  \n",
       "9              ['.Ipsoft .Zest FinanceRead', 'Clare']           ['FranaisUs']  \n",
       "10  ['Nathan EddyJanuary 07', 'Xray', 'Shravya She...                      []  \n",
       "\n",
       "[5 rows x 27 columns]"
      ]
     },
     "execution_count": 7,
     "metadata": {},
     "output_type": "execute_result"
    }
   ],
   "source": [
    "df_filt_pos.head()"
   ]
  },
  {
   "cell_type": "code",
   "execution_count": 9,
   "id": "457ddd3b-5511-4325-b7ba-a76091ab97ae",
   "metadata": {},
   "outputs": [],
   "source": [
    "import ast\n",
    "df_filt_pos['cleaned_text_tokens']=df_filt_pos['cleaned_text_tokens'].apply(ast.literal_eval)\n",
    "df_filt_pos['cleaned_tokens_string'] = df_filt_pos['cleaned_text_tokens'].apply(' '.join)\n"
   ]
  },
  {
   "cell_type": "code",
   "execution_count": 10,
   "id": "216dd572-83be-4c46-b80a-c986a9c32030",
   "metadata": {},
   "outputs": [
    {
     "data": {
      "text/plain": [
       "1    artificial intelligence researchers develop ai...\n",
       "5    ai machine magazine connections magazineprimar...\n",
       "Name: cleaned_tokens_string, dtype: object"
      ]
     },
     "execution_count": 10,
     "metadata": {},
     "output_type": "execute_result"
    }
   ],
   "source": [
    "df_filt_pos['cleaned_tokens_string'].head(2)"
   ]
  },
  {
   "cell_type": "code",
   "execution_count": 11,
   "id": "c5f5d438-a3b9-4aaa-bca6-6cb1a71d9532",
   "metadata": {},
   "outputs": [
    {
     "name": "stderr",
     "output_type": "stream",
     "text": [
      "2023-05-23 06:00:07.175969: I tensorflow/core/platform/cpu_feature_guard.cc:193] This TensorFlow binary is optimized with oneAPI Deep Neural Network Library (oneDNN) to use the following CPU instructions in performance-critical operations:  AVX2 FMA\n",
      "To enable them in other operations, rebuild TensorFlow with the appropriate compiler flags.\n",
      "2023-05-23 06:00:13.978902: W tensorflow/compiler/xla/stream_executor/platform/default/dso_loader.cc:64] Could not load dynamic library 'libnvinfer.so.7'; dlerror: libnvinfer.so.7: cannot open shared object file: No such file or directory; LD_LIBRARY_PATH: /usr/local/cuda/lib64:/usr/local/nccl2/lib:/usr/local/cuda/extras/CUPTI/lib64\n",
      "2023-05-23 06:00:13.980341: W tensorflow/compiler/xla/stream_executor/platform/default/dso_loader.cc:64] Could not load dynamic library 'libnvinfer_plugin.so.7'; dlerror: libnvinfer_plugin.so.7: cannot open shared object file: No such file or directory; LD_LIBRARY_PATH: /usr/local/cuda/lib64:/usr/local/nccl2/lib:/usr/local/cuda/extras/CUPTI/lib64\n",
      "2023-05-23 06:00:13.980360: W tensorflow/compiler/tf2tensorrt/utils/py_utils.cc:38] TF-TRT Warning: Cannot dlopen some TensorRT libraries. If you would like to use Nvidia GPU with TensorRT, please make sure the missing libraries mentioned above are installed properly.\n"
     ]
    }
   ],
   "source": [
    "import bertopic\n",
    "from bertopic import BERTopic"
   ]
  },
  {
   "cell_type": "code",
   "execution_count": null,
   "id": "05504010-c8ab-42d4-bc94-50d075c32a3a",
   "metadata": {},
   "outputs": [],
   "source": [
    "%%time\n",
    "\n",
    "mod_BERT = BERTopic(calculate_probabilities=True)\n",
    "topics, probabilities = mod_BERT.fit_transform(df_filt_pos.cleaned_tokens_string.tolist())"
   ]
  },
  {
   "cell_type": "code",
   "execution_count": null,
   "id": "08629f33-eac8-4e74-8c73-5005edcb360e",
   "metadata": {},
   "outputs": [],
   "source": [
    "print(\"Number of topics:\", mod_BERT.get_topic_freq().shape[0])"
   ]
  },
  {
   "cell_type": "code",
   "execution_count": null,
   "id": "af1d45ef-5508-4564-ac0c-59030ddcbf90",
   "metadata": {},
   "outputs": [],
   "source": [
    "# Check the top words for each topic\n",
    "\n",
    "for i, (k, t) in enumerate(mod_BERT.get_topics().items()):\n",
    "    topic_words = [x[0] for x in t]\n",
    "    print(f\"Topic {k}: {', '.join(topic_words)}\")"
   ]
  },
  {
   "cell_type": "code",
   "execution_count": null,
   "id": "aafbd823-8919-4595-9836-632b507711de",
   "metadata": {},
   "outputs": [],
   "source": [
    "mod_BERT.visualize_topics()"
   ]
  },
  {
   "cell_type": "code",
   "execution_count": null,
   "id": "237eb24a-ed70-4874-8431-80163520b04e",
   "metadata": {},
   "outputs": [],
   "source": [
    "mod_BERT.visualize_distribution(probabilities[0])"
   ]
  }
 ],
 "metadata": {
  "environment": {
   "kernel": "python3",
   "name": "tf2-gpu.2-11.m108",
   "type": "gcloud",
   "uri": "gcr.io/deeplearning-platform-release/tf2-gpu.2-11:m108"
  },
  "kernelspec": {
   "display_name": "Python 3 (ipykernel)",
   "language": "python",
   "name": "python3"
  },
  "language_info": {
   "codemirror_mode": {
    "name": "ipython",
    "version": 3
   },
   "file_extension": ".py",
   "mimetype": "text/x-python",
   "name": "python",
   "nbconvert_exporter": "python",
   "pygments_lexer": "ipython3",
   "version": "3.10.10"
  }
 },
 "nbformat": 4,
 "nbformat_minor": 5
}
